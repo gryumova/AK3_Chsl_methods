{
 "cells": [
  {
   "cell_type": "code",
   "execution_count": 75,
   "id": "afa8529e",
   "metadata": {},
   "outputs": [],
   "source": [
    "import matplotlib.pyplot as plt\n",
    "import numpy as np"
   ]
  },
  {
   "cell_type": "code",
   "execution_count": 172,
   "id": "74b41d72",
   "metadata": {},
   "outputs": [],
   "source": [
    "k =  21\n",
    "a = -1\n",
    "b =  1"
   ]
  },
  {
   "cell_type": "markdown",
   "id": "ea9f0005",
   "metadata": {},
   "source": [
    "Шаг сетки"
   ]
  },
  {
   "cell_type": "code",
   "execution_count": 170,
   "id": "44fface5",
   "metadata": {},
   "outputs": [
    {
     "name": "stdout",
     "output_type": "stream",
     "text": [
      "Шаг сетки -  -0.475\n"
     ]
    }
   ],
   "source": [
    "h = (b-a)/(k-1)\n",
    "print(\"Шаг сетки - \", h)"
   ]
  },
  {
   "cell_type": "code",
   "execution_count": 178,
   "id": "2f1670cb",
   "metadata": {},
   "outputs": [
    {
     "name": "stdout",
     "output_type": "stream",
     "text": [
      "Узлы сетки:\n",
      "\n",
      "k     tk   \n",
      "\n",
      "0    -1.0\n",
      "1    -0.9\n",
      "2    -0.8\n",
      "3    -0.7\n",
      "4    -0.6\n",
      "5    -0.5\n",
      "6    -0.4\n",
      "7    -0.3\n",
      "8    -0.2\n",
      "9    -0.1\n",
      "10    0.0\n",
      "11    0.1\n",
      "12    0.2\n",
      "13    0.3\n",
      "14    0.4\n",
      "15    0.5\n",
      "16    0.6\n",
      "17    0.7\n",
      "18    0.8\n",
      "19    0.9\n",
      "20    1.0\n"
     ]
    }
   ],
   "source": [
    "ti = [num / 10 for num in range(-10, 10 + 1, 1)]\n",
    "print(\"Узлы сетки:\\n\")\n",
    "print(\"k     tk   \\n\")\n",
    "for i in range(k):\n",
    "    print(i, \"  \", ti[i])"
   ]
  },
  {
   "cell_type": "code",
   "execution_count": 181,
   "id": "6c455538",
   "metadata": {},
   "outputs": [
    {
     "name": "stdout",
     "output_type": "stream",
     "text": [
      "Значения в узлах сетки:\n",
      "\n",
      "k    f(tk)   \n",
      "\n",
      "0    0.37\n",
      "1    0.46\n",
      "2    0.58\n",
      "3    0.74\n",
      "4    0.99\n",
      "5    1.38\n",
      "6    2.04\n",
      "7    3.23\n",
      "8    5.54\n",
      "9    9.73\n",
      "10    13.0\n",
      "11    9.73\n",
      "12    5.54\n",
      "13    3.23\n",
      "14    2.04\n",
      "15    1.38\n",
      "16    0.99\n",
      "17    0.74\n",
      "18    0.58\n",
      "19    0.46\n",
      "20    0.37\n"
     ]
    }
   ],
   "source": [
    "fti = [13 / (1+33.67 * i**2) for i in ti]\n",
    "print(\"Значения в узлах сетки:\\n\")\n",
    "print(\"k    f(tk)   \\n\")\n",
    "for i in range(k):\n",
    "    print(i, \"  \", round(fti[i], 2))"
   ]
  },
  {
   "cell_type": "markdown",
   "id": "2ed13faf",
   "metadata": {},
   "source": [
    "График"
   ]
  },
  {
   "cell_type": "code",
   "execution_count": 182,
   "id": "33e82797",
   "metadata": {},
   "outputs": [
    {
     "data": {
      "image/png": "[encoded data removed]",
      "text/plain": [
       "<Figure size 432x288 with 1 Axes>"
      ]
     },
     "metadata": {
      "needs_background": "light"
     },
     "output_type": "display_data"
    }
   ],
   "source": [
    "plt.plot(ti, fti)\n",
    "plt.show()"
   ]
  },
  {
   "cell_type": "code",
   "execution_count": 183,
   "id": "dcb75545",
   "metadata": {},
   "outputs": [],
   "source": [
    "ti  = np.array(ti)\n",
    "fti = np.array(fti)"
   ]
  },
  {
   "cell_type": "markdown",
   "id": "afdc503c",
   "metadata": {},
   "source": [
    "$B * ^{>}x = ^{>}y$, найдем \n",
    "B = \\begin{pmatrix}\n",
    "  1& t_0 & ... & t^k_0\\\\\n",
    "  ...& ... & ... & ...\\\\\n",
    "  1& t_k & ... & t^k_k\\\\\n",
    "\\end{pmatrix}"
   ]
  },
  {
   "cell_type": "code",
   "execution_count": 189,
   "id": "3b1088a3",
   "metadata": {},
   "outputs": [],
   "source": [
    "from numpy import linalg as LA\n",
    "B = []\n",
    "for i in ti:\n",
    "    temp = []\n",
    "    for a in range(k):\n",
    "        temp.append(i ** a)\n",
    "    B.append(temp)\n",
    "B = np.array(B)"
   ]
  },
  {
   "cell_type": "markdown",
   "id": "244e4000",
   "metadata": {},
   "source": [
    "$B^{-1}$ - обратная матрица к B"
   ]
  },
  {
   "cell_type": "code",
   "execution_count": 190,
   "id": "6fdc0d49",
   "metadata": {},
   "outputs": [],
   "source": [
    "B_inv = LA.inv(B)"
   ]
  },
  {
   "cell_type": "markdown",
   "id": "933fbb7c",
   "metadata": {},
   "source": [
    "$^>x=B^{-1}*^>y$"
   ]
  },
  {
   "cell_type": "code",
   "execution_count": 196,
   "id": "1cc18616",
   "metadata": {},
   "outputs": [
    {
     "name": "stdout",
     "output_type": "stream",
     "text": [
      "13.000000082448917\n",
      "-2.170143460489271e-07\n",
      "-409.7436256090791\n",
      "7.1047115852707066e-06\n",
      "9461.929327270824\n",
      "-0.00018600275507196784\n",
      "-134040.96038995346\n",
      "0.002189982682466507\n",
      "1128444.4223105302\n",
      "-0.013438207097351551\n",
      "-5745532.566064805\n",
      "0.04701782576739788\n",
      "17986596.76943952\n",
      "-0.09690871462225914\n",
      "-34565162.83218038\n",
      "0.11591408029198647\n",
      "39484745.6952132\n",
      "-0.07412469014525414\n",
      "-24471756.814418554\n",
      "0.01952885091304779\n",
      "6307641.475352645\n"
     ]
    }
   ],
   "source": [
    "x = np.dot(B_inv, fti)\n",
    "for i in range(k):\n",
    "    print(x[i])"
   ]
  },
  {
   "cell_type": "markdown",
   "id": "cb4b512e",
   "metadata": {},
   "source": [
    "### Для 61 узла"
   ]
  },
  {
   "cell_type": "code",
   "execution_count": 200,
   "id": "78947d9a",
   "metadata": {},
   "outputs": [],
   "source": [
    "k =  41\n",
    "a = -1\n",
    "b =  1"
   ]
  },
  {
   "cell_type": "code",
   "execution_count": 201,
   "id": "b646ae23",
   "metadata": {},
   "outputs": [
    {
     "name": "stdout",
     "output_type": "stream",
     "text": [
      "Шаг сетки -  0.05\n"
     ]
    }
   ],
   "source": [
    "h = (b-a)/(k-1)\n",
    "print(\"Шаг сетки - \", h)"
   ]
  },
  {
   "cell_type": "code",
   "execution_count": 202,
   "id": "acac5e5b",
   "metadata": {},
   "outputs": [
    {
     "name": "stdout",
     "output_type": "stream",
     "text": [
      "Узлы сетки:\n",
      "\n"
     ]
    },
    {
     "data": {
      "text/plain": [
       "array([-1.0000000e+00, -9.5000000e-01, -9.0000000e-01, -8.5000000e-01,\n",
       "       -8.0000000e-01, -7.5000000e-01, -7.0000000e-01, -6.5000000e-01,\n",
       "       -6.0000000e-01, -5.5000000e-01, -5.0000000e-01, -4.5000000e-01,\n",
       "       -4.0000000e-01, -3.5000000e-01, -3.0000000e-01, -2.5000000e-01,\n",
       "       -2.0000000e-01, -1.5000000e-01, -1.0000000e-01, -5.0000000e-02,\n",
       "        8.8817842e-16,  5.0000000e-02,  1.0000000e-01,  1.5000000e-01,\n",
       "        2.0000000e-01,  2.5000000e-01,  3.0000000e-01,  3.5000000e-01,\n",
       "        4.0000000e-01,  4.5000000e-01,  5.0000000e-01,  5.5000000e-01,\n",
       "        6.0000000e-01,  6.5000000e-01,  7.0000000e-01,  7.5000000e-01,\n",
       "        8.0000000e-01,  8.5000000e-01,  9.0000000e-01,  9.5000000e-01,\n",
       "        1.0000000e+00])"
      ]
     },
     "execution_count": 202,
     "metadata": {},
     "output_type": "execute_result"
    }
   ],
   "source": [
    "ti = np.arange(a, b + h, h)\n",
    "print(\"Узлы сетки:\\n\", ti)"
   ]
  },
  {
   "cell_type": "code",
   "execution_count": 203,
   "id": "5e7760c5",
   "metadata": {},
   "outputs": [
    {
     "name": "stdout",
     "output_type": "stream",
     "text": [
      "Значения в узлах сетки:\n",
      "\n",
      "[0.37496394577444475, 0.4141819071005913, 0.45980751749921306, 0.5132948296404075, 0.5765273540055349, 0.6519763031689813, 0.7429293131332764, 0.8538265385707936, 0.9907630399658577, 1.1622527139718437, 1.380408813379349, 1.6627921477838528, 2.0353206412825693, 2.5367957342804104, 3.2255663350122914, 4.187638413529308, 5.539457985341765, 7.396554912308183, 9.725443255779197, 11.990684160767435, 13.0, 11.990684160767367, 9.725443255779108, 7.396554912308108, 5.539457985341708, 4.187638413529268, 3.225566335012263, 2.5367957342803895, 2.035320641282554, 1.6627921477838414, 1.3804088133793404, 1.1622527139718368, 0.9907630399658524, 0.8538265385707893, 0.7429293131332728, 0.6519763031689784, 0.5765273540055323, 0.5132948296404054, 0.45980751749921134, 0.4141819071005898, 0.3749639457744434]\n"
     ]
    }
   ],
   "source": [
    "fti = [13 / (1+33.67 * i**2) for i in ti]\n",
    "print(\"Значения в узлах сетки:\\n\")\n",
    "print(fti)"
   ]
  },
  {
   "cell_type": "code",
   "execution_count": 204,
   "id": "d2c52c3f",
   "metadata": {},
   "outputs": [
    {
     "data": {
      "text/plain": [
       "[<matplotlib.lines.Line2D at 0x2b8288d3490>]"
      ]
     },
     "execution_count": 204,
     "metadata": {},
     "output_type": "execute_result"
    },
    {
     "data": {
      "image/png": "[encoded data removed]",
      "text/plain": [
       "<Figure size 432x288 with 1 Axes>"
      ]
     },
     "metadata": {
      "needs_background": "light"
     },
     "output_type": "display_data"
    }
   ],
   "source": [
    "plt.plot(ti, fti)"
   ]
  },
  {
   "cell_type": "code",
   "execution_count": 208,
   "id": "da0c03d3",
   "metadata": {},
   "outputs": [],
   "source": [
    "from numpy import linalg as LA\n",
    "B = []\n",
    "for i in ti:\n",
    "    temp = []\n",
    "    for a in range(21):\n",
    "        temp.append(i ** a)\n",
    "    B.append(temp)\n",
    "B = np.array(B)"
   ]
  },
  {
   "cell_type": "code",
   "execution_count": 244,
   "id": "7b8a6962",
   "metadata": {},
   "outputs": [],
   "source": [
    "x_t = x.T\n",
    "A = B * x_t"
   ]
  },
  {
   "cell_type": "code",
   "execution_count": 215,
   "id": "9ac0325d",
   "metadata": {},
   "outputs": [
    {
     "name": "stdout",
     "output_type": "stream",
     "text": [
      "i=1  0.3749639317393303 i=21  13.000000082448917\n",
      "i=2  -979.9154293984175 i=22  12.032727199839771\n",
      "i=3  0.45980761910323054 i=23  9.725443318280183\n",
      "i=4  84.13131023538881 i=24  7.302371568191193\n",
      "i=5  0.576527483513928 i=25  5.539458041399322\n",
      "i=6  -12.01215456926002 i=26  4.318331935163737\n",
      "i=7  0.7429294403027598 i=27  3.225566369000549\n",
      "i=8  3.728545149297588 i=28  2.3372829629558693\n",
      "i=9  0.9907631677379811 i=29  2.0353206880805557\n",
      "i=10  0.25921875634103486 i=30  2.037870868029241\n",
      "i=11  1.3804089392864611 i=31  1.3804088735279771\n",
      "i=12  2.037870930256294 i=32  0.2592186824966447\n",
      "i=13  2.0353207629983663 i=33  0.9907631161033805\n",
      "i=14  2.337283050007325 i=34  3.7285451443087823\n",
      "i=15  3.2255664518180476 i=35  0.7429294168996421\n",
      "i=16  4.318332000389705 i=36  -12.012154703596025\n",
      "i=17  5.539458089494179 i=37  0.5765274716395652\n",
      "i=18  7.302371607059906 i=38  84.1313109061739\n",
      "i=19  9.725443350781733 i=39  0.4598076258553192\n",
      "i=20  12.032727219877977 i=40  -979.9154363516718\n",
      "i=21  13.000000082448917 i=41  0.37496396247297525\n"
     ]
    }
   ],
   "source": [
    "Lk = []\n",
    "for i in range(41):\n",
    "    temp = 0\n",
    "    for j in range(21):\n",
    "        temp += A[i][j]\n",
    "    Lk.append(temp)\n",
    "for i in range(21):\n",
    "    print(\"i=\" , i + 1, \"  \", Lk[i], \" i=\", i + 21, \"  \", Lk[i + 20], sep=\"\")"
   ]
  },
  {
   "cell_type": "code",
   "execution_count": 211,
   "id": "404f6ff9",
   "metadata": {},
   "outputs": [
    {
     "data": {
      "text/plain": [
       "[<matplotlib.lines.Line2D at 0x2b82877d9a0>]"
      ]
     },
     "execution_count": 211,
     "metadata": {},
     "output_type": "execute_result"
    },
    {
     "data": {
      "image/png": "[encoded data removed]",
      "text/plain": [
       "<Figure size 432x288 with 1 Axes>"
      ]
     },
     "metadata": {
      "needs_background": "light"
     },
     "output_type": "display_data"
    }
   ],
   "source": [
    "plt.plot(ti, Lk)"
   ]
  },
  {
   "cell_type": "markdown",
   "id": "cd6f40b2",
   "metadata": {},
   "source": [
    "### Для чебышевской сетки"
   ]
  },
  {
   "cell_type": "markdown",
   "id": "eb5b8e51",
   "metadata": {},
   "source": [
    "Построим чебышевскую сетку по формуле\n",
    "$A = <t_j=\\frac{a+b}{2} - \\frac{b-a}{2} * cos\\frac{(2j+1)*\\pi}{2(k+1)}:j=\\overline{0,k}>$"
   ]
  },
  {
   "cell_type": "code",
   "execution_count": 231,
   "id": "e40347bd",
   "metadata": {},
   "outputs": [
    {
     "data": {
      "text/plain": [
       "[-0.9972037971811801,\n",
       " -0.9749279121818236,\n",
       " -0.9308737486442042,\n",
       " -0.8660254037844387,\n",
       " -0.7818314824680298,\n",
       " -0.6801727377709195,\n",
       " -0.563320058063622,\n",
       " -0.4338837391175582,\n",
       " -0.2947551744109041,\n",
       " -0.14904226617617464,\n",
       " -6.123233995736766e-17,\n",
       " 0.1490422661761743,\n",
       " 0.2947551744109042,\n",
       " 0.43388373911755806,\n",
       " 0.5633200580636221,\n",
       " 0.6801727377709192,\n",
       " 0.7818314824680297,\n",
       " 0.8660254037844385,\n",
       " 0.9308737486442044,\n",
       " 0.9749279121818236,\n",
       " 0.9972037971811801]"
      ]
     },
     "execution_count": 231,
     "metadata": {},
     "output_type": "execute_result"
    }
   ],
   "source": [
    "a = -1\n",
    "b = 1\n",
    "koef1 = (a + b)/2\n",
    "koef2 = (b - a)/2\n",
    "A = []\n",
    "for j in range(21):\n",
    "    temp = - np.cos(((2 * j  + 1) * np.pi)/42)\n",
    "    A.append(temp)\n",
    "A"
   ]
  },
  {
   "cell_type": "code",
   "execution_count": 232,
   "id": "b9e82230",
   "metadata": {},
   "outputs": [
    {
     "name": "stdout",
     "output_type": "stream",
     "text": [
      "Значения в узлах сетки:\n",
      "\n",
      "0.38\n",
      "0.39\n",
      "0.43\n",
      "0.5\n",
      "0.6\n",
      "0.78\n",
      "1.11\n",
      "1.77\n",
      "3.31\n",
      "7.44\n",
      "13.0\n",
      "7.44\n",
      "3.31\n",
      "1.77\n",
      "1.11\n",
      "0.78\n",
      "0.6\n",
      "0.5\n",
      "0.43\n",
      "0.39\n",
      "0.38\n"
     ]
    }
   ],
   "source": [
    "fA = [13 / (1+33.67 * i**2) for i in A]\n",
    "print(\"Значения в узлах сетки:\\n\")\n",
    "for i in fA:\n",
    "    print(round(i, 2))"
   ]
  },
  {
   "cell_type": "code",
   "execution_count": 233,
   "id": "0e435245",
   "metadata": {},
   "outputs": [
    {
     "data": {
      "text/plain": [
       "[<matplotlib.lines.Line2D at 0x2b827b87b80>]"
      ]
     },
     "execution_count": 233,
     "metadata": {},
     "output_type": "execute_result"
    },
    {
     "data": {
      "image/png": "[encoded data removed]",
      "text/plain": [
       "<Figure size 432x288 with 1 Axes>"
      ]
     },
     "metadata": {
      "needs_background": "light"
     },
     "output_type": "display_data"
    }
   ],
   "source": [
    "plt.plot(A, fA)"
   ]
  },
  {
   "cell_type": "code",
   "execution_count": 234,
   "id": "22afd112",
   "metadata": {},
   "outputs": [],
   "source": [
    "from numpy import linalg as LA\n",
    "B = []\n",
    "for i in A:\n",
    "    temp = []\n",
    "    for a in range(21):\n",
    "        temp.append(i ** a)\n",
    "    B.append(temp)\n",
    "B = np.array(B)"
   ]
  },
  {
   "cell_type": "code",
   "execution_count": 235,
   "id": "8bccdfe0",
   "metadata": {},
   "outputs": [],
   "source": [
    "B_inv = LA.inv(B)"
   ]
  },
  {
   "cell_type": "code",
   "execution_count": 236,
   "id": "4dd1b2f9",
   "metadata": {},
   "outputs": [
    {
     "data": {
      "text/plain": [
       "array([ 1.30000000e+01,  4.49730919e-10, -3.51199113e+02, -5.56892701e-08,\n",
       "        5.48074246e+03,  7.43370038e-07, -4.75033542e+04, -4.90851380e-06,\n",
       "        2.42156278e+05,  1.96779438e-05, -7.63757286e+05, -4.93996195e-05,\n",
       "        1.53141645e+06,  7.71374325e-05, -1.95398896e+06, -7.23928679e-05,\n",
       "        1.53559709e+06,  3.72824434e-05, -6.77356829e+05, -8.08500772e-06,\n",
       "        1.28294567e+05])"
      ]
     },
     "execution_count": 236,
     "metadata": {},
     "output_type": "execute_result"
    }
   ],
   "source": [
    "x = np.dot(B_inv, fA)\n",
    "x"
   ]
  },
  {
   "cell_type": "markdown",
   "id": "15d9442a",
   "metadata": {},
   "source": [
    "Сетка с 41 узлом"
   ]
  },
  {
   "cell_type": "code",
   "execution_count": 237,
   "id": "762b78d7",
   "metadata": {},
   "outputs": [
    {
     "data": {
      "text/plain": [
       "[-0.9993007047883985,\n",
       " -0.9937122098932426,\n",
       " -0.9825664732332883,\n",
       " -0.9659258262890683,\n",
       " -0.9438833303083676,\n",
       " -0.9165622558699762,\n",
       " -0.8841153935046098,\n",
       " -0.8467241992282842,\n",
       " -0.8045977797666682,\n",
       " -0.757971723145453,\n",
       " -0.7071067811865476,\n",
       " -0.6522874112781212,\n",
       " -0.5938201855735016,\n",
       " -0.5320320765153366,\n",
       " -0.467268628273062,\n",
       " -0.3998920243197411,\n",
       " -0.33027906195516715,\n",
       " -0.25881904510252096,\n",
       " -0.1859116071629145,\n",
       " -0.11196447610330791,\n",
       " -0.037391194276325826,\n",
       " 0.037391194276325486,\n",
       " 0.1119644761033078,\n",
       " 0.18591160716291458,\n",
       " 0.25881904510252063,\n",
       " 0.330279061955167,\n",
       " 0.39989202431974097,\n",
       " 0.46726862827306204,\n",
       " 0.5320320765153365,\n",
       " 0.5938201855735015,\n",
       " 0.6522874112781212,\n",
       " 0.7071067811865475,\n",
       " 0.7579717231454528,\n",
       " 0.8045977797666684,\n",
       " 0.8467241992282841,\n",
       " 0.8841153935046099,\n",
       " 0.916562255869976,\n",
       " 0.9438833303083676,\n",
       " 0.9659258262890682,\n",
       " 0.9825664732332883,\n",
       " 0.9937122098932426]"
      ]
     },
     "execution_count": 237,
     "metadata": {},
     "output_type": "execute_result"
    }
   ],
   "source": [
    "a = -1\n",
    "b = 1\n",
    "koef1 = (a + b)/2\n",
    "koef2 = (b - a)/2\n",
    "A_41 = []\n",
    "for j in range(41):\n",
    "    temp = - np.cos(((2 * j  + 1) * np.pi)/(2 *(41 + 1)))\n",
    "    A_41.append(temp)\n",
    "A_41"
   ]
  },
  {
   "cell_type": "code",
   "execution_count": 240,
   "id": "55b3d8d7",
   "metadata": {},
   "outputs": [],
   "source": [
    "from numpy import linalg as LA\n",
    "B = []\n",
    "for i in A_41:\n",
    "    temp = []\n",
    "    for a in range(21):\n",
    "        temp.append(i ** a)\n",
    "    B.append(temp)\n",
    "B_41 = np.array(B)"
   ]
  },
  {
   "cell_type": "code",
   "execution_count": 241,
   "id": "47483397",
   "metadata": {},
   "outputs": [],
   "source": [
    "x_t = x.T\n",
    "A = B_41 * x_t"
   ]
  },
  {
   "cell_type": "code",
   "execution_count": 242,
   "id": "3d8f8eaf",
   "metadata": {},
   "outputs": [
    {
     "name": "stdout",
     "output_type": "stream",
     "text": [
      "i=1  0.45954914460889995 i=21  12.519572265312824\n",
      "i=2  0.29506450521876104 i=22  12.519572265340752\n",
      "i=3  0.30256466707214713 i=23  9.370829299388264\n",
      "i=4  0.48785875150497304 i=24  5.757827627748411\n",
      "i=5  0.5080955929588526 i=25  3.7616982960547123\n",
      "i=6  0.3527344723697752 i=26  2.9879074313865175\n",
      "i=7  0.3815948247356573 i=27  2.218707225095214\n",
      "i=8  0.6152280728392725 i=28  1.3936238469648021\n",
      "i=9  0.6730549973692632 i=29  1.0873303035696822\n",
      "i=10  0.5304749129166453 i=30  1.1442565766285995\n",
      "i=11  0.6134127820307924 i=31  0.9722183675271481\n",
      "i=12  0.9722183667835864 i=32  0.6134127828203475\n",
      "i=13  1.1442565761581038 i=33  0.5304749136399778\n",
      "i=14  1.0873303035032047 i=34  0.6730549980957221\n",
      "i=15  1.3936238472695828 i=35  0.6152280736278044\n",
      "i=16  2.2187072256587923 i=36  0.3815948254959949\n",
      "i=17  2.9879074320537944 i=37  0.3527344729300239\n",
      "i=18  3.761698296615996 i=38  0.5080955933080986\n",
      "i=19  5.757827628032458 i=39  0.48785875188332284\n",
      "i=20  9.370829299419782 i=40  0.3025646674504969\n",
      "i=21  12.519572265312824 i=41  0.29506450524786487\n"
     ]
    }
   ],
   "source": [
    "Lk = []\n",
    "for i in range(41):\n",
    "    temp = 0\n",
    "    for j in range(21):\n",
    "        temp += A[i][j]\n",
    "    Lk.append(temp)\n",
    "for i in range(21):\n",
    "    print(\"i=\" , i + 1, \"  \", Lk[i], \" i=\", i + 21, \"  \", Lk[i + 20], sep=\"\")"
   ]
  },
  {
   "cell_type": "code",
   "execution_count": 243,
   "id": "fc50c5f4",
   "metadata": {},
   "outputs": [
    {
     "data": {
      "text/plain": [
       "[<matplotlib.lines.Line2D at 0x2b827c157f0>]"
      ]
     },
     "execution_count": 243,
     "metadata": {},
     "output_type": "execute_result"
    },
    {
     "data": {
      "image/png": "[encoded data removed]",
      "text/plain": [
       "<Figure size 432x288 with 1 Axes>"
      ]
     },
     "metadata": {
      "needs_background": "light"
     },
     "output_type": "display_data"
    }
   ],
   "source": [
    "plt.plot(A_41, Lk)"
   ]
  }
 ],
 "metadata": {
  "kernelspec": {
   "display_name": "Python 3",
   "language": "python",
   "name": "python3"
  },
  "language_info": {
   "codemirror_mode": {
    "name": "ipython",
    "version": 3
   },
   "file_extension": ".py",
   "mimetype": "text/x-python",
   "name": "python",
   "nbconvert_exporter": "python",
   "pygments_lexer": "ipython3",
   "version": "3.8.8"
  }
 },
 "nbformat": 4,
 "nbformat_minor": 5
}
