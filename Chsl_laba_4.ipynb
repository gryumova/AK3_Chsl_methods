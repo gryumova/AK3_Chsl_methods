{
 "cells": [
  {
   "cell_type": "code",
   "execution_count": 1,
   "id": "4067a427",
   "metadata": {},
   "outputs": [],
   "source": [
    "import numpy as np\n",
    "import matplotlib as plt"
   ]
  },
  {
   "cell_type": "markdown",
   "id": "4cf193b4",
   "metadata": {},
   "source": [
    "## Метод Якоби"
   ]
  },
  {
   "cell_type": "code",
   "execution_count": 75,
   "id": "a7e61d91",
   "metadata": {},
   "outputs": [],
   "source": [
    "A = []\n",
    "A.append(np.array (\n",
    "[[10, -1, 2, 3 ],\n",
    " [-1, 10, 3, 2 ],\n",
    " [2, 3,  10, -1 ],\n",
    " [3,  2,  -1, 10]]\n",
    "))"
   ]
  },
  {
   "cell_type": "markdown",
   "id": "860b5e5e",
   "metadata": {},
   "source": [
    "a - alpha\n",
    "\n",
    "b - betta"
   ]
  },
  {
   "cell_type": "code",
   "execution_count": 76,
   "id": "3e697694",
   "metadata": {},
   "outputs": [],
   "source": [
    "a = b = 0"
   ]
  },
  {
   "cell_type": "code",
   "execution_count": 77,
   "id": "809e7ded",
   "metadata": {},
   "outputs": [],
   "source": [
    "def findMax(M):\n",
    "    AmaxEl = 0\n",
    "    for i in range(0, 4):\n",
    "        for j in range(i, 4):\n",
    "            if ((i != j) & (abs(M[i][j]) >= AmaxEl)):\n",
    "                AmaxEl = abs(M[i][j])\n",
    "                m = i\n",
    "                n = j\n",
    "    return m, n"
   ]
  },
  {
   "cell_type": "code",
   "execution_count": 78,
   "id": "027e2f12",
   "metadata": {},
   "outputs": [
    {
     "data": {
      "text/plain": [
       "(1, 2)"
      ]
     },
     "execution_count": 78,
     "metadata": {},
     "output_type": "execute_result"
    }
   ],
   "source": [
    "a, b = findMax(A[0])\n",
    "a, b"
   ]
  },
  {
   "cell_type": "code",
   "execution_count": 79,
   "id": "0f0ab719",
   "metadata": {},
   "outputs": [
    {
     "data": {
      "text/plain": [
       "0.7853981633974483"
      ]
     },
     "execution_count": 79,
     "metadata": {},
     "output_type": "execute_result"
    }
   ],
   "source": [
    "phi = .5 * (np.pi/2 - np.arctan(((A[0])[a][a]-(A[0])[b][b])/(2*(A[0])[a][b])))\n",
    "phi"
   ]
  },
  {
   "cell_type": "code",
   "execution_count": 80,
   "id": "6bdc1b86",
   "metadata": {},
   "outputs": [
    {
     "name": "stdout",
     "output_type": "stream",
     "text": [
      "Q:\n",
      " [[ 1.          0.          0.          0.        ]\n",
      " [ 0.          0.70710678 -0.70710678  0.        ]\n",
      " [ 0.          0.70710678  0.70710678  0.        ]\n",
      " [ 0.          0.          0.          1.        ]]\n",
      "Q транспонированная:\n",
      " [[ 1.          0.          0.          0.        ]\n",
      " [ 0.          0.70710678  0.70710678  0.        ]\n",
      " [ 0.         -0.70710678  0.70710678  0.        ]\n",
      " [ 0.          0.          0.          1.        ]]\n"
     ]
    }
   ],
   "source": [
    "Q = []\n",
    "Q.append(np.eye(4, 4))\n",
    "(Q[0])[a][a] = np.cos(phi)\n",
    "(Q[0])[a][b] = - np.sin(phi)\n",
    "(Q[0])[b][a] = np.sin(phi)\n",
    "(Q[0])[b][b] = np.cos(phi)\n",
    "print(\"Q:\\n\", Q[0])\n",
    "print(\"Q транспонированная:\\n\", Q[0].T)"
   ]
  },
  {
   "cell_type": "code",
   "execution_count": 81,
   "id": "27fbb7ec",
   "metadata": {},
   "outputs": [
    {
     "name": "stdout",
     "output_type": "stream",
     "text": [
      "A[1]:\n",
      " [[10.          0.70710678  2.12132034  3.        ]\n",
      " [ 0.70710678 13.          0.          0.70710678]\n",
      " [ 2.12132034  0.          7.         -2.12132034]\n",
      " [ 3.          0.70710678 -2.12132034 10.        ]]\n"
     ]
    }
   ],
   "source": [
    "A.append(Q[0].transpose().dot(A[0]).dot(Q[0]))\n",
    "print(\"A[1]:\\n\", A[1])"
   ]
  },
  {
   "cell_type": "markdown",
   "id": "09bda0bb",
   "metadata": {},
   "source": [
    "Первый элемент посчитан, теперь идем в цикл для всех остальных"
   ]
  },
  {
   "cell_type": "code",
   "execution_count": 82,
   "id": "b52acbc4",
   "metadata": {},
   "outputs": [],
   "source": [
    "eps = .005\n",
    "k = 1"
   ]
  },
  {
   "cell_type": "code",
   "execution_count": 83,
   "id": "35434c37",
   "metadata": {},
   "outputs": [],
   "source": [
    "def acot(x):\n",
    "    if x == 0:\n",
    "        return np.pi/2\n",
    "    return np.arctan(1/x)\n"
   ]
  },
  {
   "cell_type": "code",
   "execution_count": 84,
   "id": "c7d8bc64",
   "metadata": {},
   "outputs": [
    {
     "data": {
      "text/plain": [
       "array([[14.,  0.,  0.,  0.],\n",
       "       [ 0., 12.,  0.,  0.],\n",
       "       [ 0.,  0.,  4.,  0.],\n",
       "       [ 0.,  0.,  0., 10.]])"
      ]
     },
     "execution_count": 84,
     "metadata": {},
     "output_type": "execute_result"
    }
   ],
   "source": [
    "a, b = findMax(A[k])\n",
    "\n",
    "while abs((A[k])[a][b]) >= eps:\n",
    "    phi = .5*acot(((A[k])[a][a]-(A[k])[b][b])/(2*(A[k])[a][b]))\n",
    "    \n",
    "    Q.append(np.eye(4, 4))\n",
    "    (Q[k])[a][a] = np.cos(phi)\n",
    "    (Q[k])[a][b] = - np.sin(phi)\n",
    "    (Q[k])[b][a] = np.sin(phi)\n",
    "    (Q[k])[b][b] = np.cos(phi)\n",
    "    \n",
    "    A.append(Q[k].transpose().dot(A[k]).dot(Q[k]))\n",
    "    k += 1\n",
    "    a, b = findMax(A[k])\n",
    "\n",
    "A[k]"
   ]
  },
  {
   "cell_type": "code",
   "execution_count": 72,
   "id": "0d6fa5fa",
   "metadata": {},
   "outputs": [
    {
     "data": {
      "text/plain": [
       "7"
      ]
     },
     "execution_count": 72,
     "metadata": {},
     "output_type": "execute_result"
    }
   ],
   "source": []
  },
  {
   "cell_type": "markdown",
   "id": "59f4736a",
   "metadata": {},
   "source": [
    "Проверка"
   ]
  },
  {
   "cell_type": "code",
   "execution_count": 85,
   "id": "ed8a7aff",
   "metadata": {},
   "outputs": [
    {
     "data": {
      "text/plain": [
       "array([[ 0.5, -0.5, -0.5, -0.5],\n",
       "       [ 0.5,  0.5, -0.5,  0.5],\n",
       "       [ 0.5,  0.5,  0.5, -0.5],\n",
       "       [ 0.5, -0.5,  0.5,  0.5]])"
      ]
     },
     "execution_count": 85,
     "metadata": {},
     "output_type": "execute_result"
    }
   ],
   "source": [
    "m_Q = np.eye(4, 4)\n",
    "for i in range(0, k):\n",
    "    m_Q = m_Q.dot(Q[i])\n",
    "m_Q"
   ]
  },
  {
   "cell_type": "code",
   "execution_count": 86,
   "id": "c97de1ac",
   "metadata": {},
   "outputs": [],
   "source": [
    "q1 = np.array([m_Q[0][0], m_Q[0][1], m_Q[0][2], m_Q[0][3]])\n",
    "q2 = np.array([m_Q[1][0], m_Q[1][1], m_Q[1][2], m_Q[1][3]])\n",
    "q3 = np.array([m_Q[2][0], m_Q[2][1], m_Q[2][2], m_Q[2][3]])\n",
    "q4 = np.array([m_Q[3][0], m_Q[3][1], m_Q[3][2], m_Q[3][3]])\n",
    "\n",
    "m_q = m_Q.transpose()"
   ]
  },
  {
   "cell_type": "code",
   "execution_count": 87,
   "id": "eb123c8f",
   "metadata": {},
   "outputs": [
    {
     "data": {
      "text/plain": [
       "[14.000000000000004, 12.000000000000002, 4.000000000000001, 10.000000000000002]"
      ]
     },
     "execution_count": 87,
     "metadata": {},
     "output_type": "execute_result"
    }
   ],
   "source": [
    "lam = [(A[k])[0][0], (A[k])[1][1], (A[k])[2][2], (A[k])[3][3]]\n",
    "lam"
   ]
  },
  {
   "cell_type": "code",
   "execution_count": 88,
   "id": "0de4d8c6",
   "metadata": {},
   "outputs": [
    {
     "name": "stdout",
     "output_type": "stream",
     "text": [
      " [7. 7. 7. 7.] \n",
      " [7. 7. 7. 7.]\n",
      "\n",
      " [-6.  6.  6. -6.] \n",
      " [-6.  6.  6. -6.]\n",
      "\n",
      " [-2. -2.  2.  2.] \n",
      " [-2. -2.  2.  2.]\n",
      "\n",
      " [-5.  5. -5.  5.] \n",
      " [-5.  5. -5.  5.]\n",
      "\n"
     ]
    }
   ],
   "source": [
    "for i in range(0, 4):\n",
    "    print(\"\", A[0].dot(m_q[i]), \"\\n\", lam[i]*m_q[i], end=\"\\n\\n\")"
   ]
  },
  {
   "cell_type": "code",
   "execution_count": 89,
   "id": "f61909b6",
   "metadata": {},
   "outputs": [
    {
     "data": {
      "text/plain": [
       "array([ 4., 10., 12., 14.])"
      ]
     },
     "execution_count": 89,
     "metadata": {},
     "output_type": "execute_result"
    }
   ],
   "source": [
    "wa, va = np.linalg.eigh(A[0])\n",
    "wa"
   ]
  }
 ],
 "metadata": {
  "kernelspec": {
   "display_name": "Python 3",
   "language": "python",
   "name": "python3"
  },
  "language_info": {
   "codemirror_mode": {
    "name": "ipython",
    "version": 3
   },
   "file_extension": ".py",
   "mimetype": "text/x-python",
   "name": "python",
   "nbconvert_exporter": "python",
   "pygments_lexer": "ipython3",
   "version": "3.8.8"
  }
 },
 "nbformat": 4,
 "nbformat_minor": 5
}
