{
 "cells": [
  {
   "cell_type": "code",
   "execution_count": 49,
   "id": "d7cf2d3b",
   "metadata": {},
   "outputs": [],
   "source": [
    "import numpy as np\n",
    "from scipy.linalg import solve\n",
    "import matplotlib.pyplot as plt"
   ]
  },
  {
   "cell_type": "markdown",
   "id": "dbd4ce50",
   "metadata": {},
   "source": [
    "# Задание 1"
   ]
  },
  {
   "cell_type": "code",
   "execution_count": 50,
   "id": "010e5241",
   "metadata": {},
   "outputs": [],
   "source": [
    "def norm_vector(a):\n",
    "    return max(list(map(abs, a)))\n",
    "\n",
    "def norm_matrix(A):\n",
    "    max_ = -100\n",
    "    for i in range(4):\n",
    "        max_i = 0\n",
    "        for j in range(4):\n",
    "            max_i += abs(A[i][j])\n",
    "        if max_i > max_:\n",
    "            max_ = max_i\n",
    "    return max_\n"
   ]
  },
  {
   "cell_type": "code",
   "execution_count": 51,
   "id": "e3bf1e2d",
   "metadata": {},
   "outputs": [
    {
     "name": "stdout",
     "output_type": "stream",
     "text": [
      "[[10.2 -1.   2.   3. ]\n",
      " [ 1.  10.2  3.   2. ]\n",
      " [ 2.   3.  10.2  1. ]\n",
      " [ 3.   2.   1.  10.2]]\n"
     ]
    }
   ],
   "source": [
    "beta = 1 + 0.01 * (51 - 49)\n",
    "A = np.array([\n",
    "    [10 * beta, -1,         2,         3],\n",
    "    [1,          10 * beta, 3,         2],\n",
    "    [2,          3,         10 * beta, 1],\n",
    "    [3,          2,         1,         10 * beta]\n",
    "], float)\n",
    "print(A)"
   ]
  },
  {
   "cell_type": "code",
   "execution_count": 52,
   "id": "c14ecc2b",
   "metadata": {},
   "outputs": [
    {
     "name": "stdout",
     "output_type": "stream",
     "text": [
      "[1. 1. 1. 1.]\n"
     ]
    }
   ],
   "source": [
    "x0 = np.array([1, 1, 1, 1], float)\n",
    "print(x0)"
   ]
  },
  {
   "cell_type": "code",
   "execution_count": 53,
   "id": "5398cc22",
   "metadata": {},
   "outputs": [
    {
     "data": {
      "text/plain": [
       "array([14.2, 16.2, 16.2, 16.2])"
      ]
     },
     "execution_count": 53,
     "metadata": {},
     "output_type": "execute_result"
    }
   ],
   "source": [
    "b = np.dot(A,x0)\n",
    "b"
   ]
  },
  {
   "cell_type": "code",
   "execution_count": 54,
   "id": "e4aa4c90",
   "metadata": {},
   "outputs": [],
   "source": [
    "x = [np.array([0, 0, 0, 0])]"
   ]
  },
  {
   "cell_type": "code",
   "execution_count": 75,
   "id": "6d569a57",
   "metadata": {},
   "outputs": [
    {
     "name": "stdout",
     "output_type": "stream",
     "text": [
      "[[ 0.          0.09803922 -0.19607843 -0.29411765]\n",
      " [-0.09803922  0.         -0.29411765 -0.19607843]\n",
      " [-0.19607843 -0.29411765  0.         -0.09803922]\n",
      " [-0.29411765 -0.19607843 -0.09803922  0.        ]]\n",
      "[[0.09803922 0.         0.         0.        ]\n",
      " [0.         0.09803922 0.         0.        ]\n",
      " [0.         0.         0.09803922 0.        ]\n",
      " [0.         0.         0.         0.09803922]]\n",
      "норма матрицы F: 0.5882352941176472\n"
     ]
    }
   ],
   "source": [
    "E = np.array([\n",
    "    [1.0, 0.0, 0.0, 0.0],\n",
    "    [0.0, 1.0, 0.0, 0.0],\n",
    "    [0.0, 0.0, 1.0, 0.0],\n",
    "    [0.0, 0.0, 0.0, 1.0]\n",
    "])\n",
    "m = 1/A[0][0]\n",
    "D =  np.array([\n",
    "    [m, 0.0, 0.0, 0.0],\n",
    "    [0.0, m, 0.0, 0.0],\n",
    "    [0.0, 0.0, m, 0.0],\n",
    "    [0.0, 0.0, 0.0, m]\n",
    "], float)\n",
    "F = E - np.dot(D, A)\n",
    "print(F)\n",
    "print(D)\n",
    "print(\"норма матрицы F:\", norm_matrix(F))"
   ]
  },
  {
   "cell_type": "code",
   "execution_count": 56,
   "id": "ff889fa2",
   "metadata": {},
   "outputs": [
    {
     "name": "stdout",
     "output_type": "stream",
     "text": [
      "[1.39215686 1.58823529 1.58823529 1.58823529]\n",
      "1.5882352941176472\n"
     ]
    }
   ],
   "source": [
    "g = np.dot(D, b)\n",
    "print(g)\n",
    "print(norm_vector(g))"
   ]
  },
  {
   "cell_type": "code",
   "execution_count": 85,
   "id": "ad72621e",
   "metadata": {},
   "outputs": [
    {
     "name": "stdout",
     "output_type": "stream",
     "text": [
      "x1:\n",
      "[[1.39215686]\n",
      " [1.58823529]\n",
      " [1.58823529]\n",
      " [1.58823529]] - погрешность -  0.588235\n",
      "x2:\n",
      "[[0.76931949]\n",
      " [0.67320261]\n",
      " [0.69242599]\n",
      " [0.71164937]] - погрешность -  0.326797\n",
      "x3:\n",
      "[[1.11307868]\n",
      " [1.16961802]\n",
      " [1.16961802]\n",
      " [1.16207944]] - погрешность -  0.169618\n",
      "x4:\n",
      "[[0.93570036]\n",
      " [0.90724592]\n",
      " [0.91204992]\n",
      " [0.91685391]] - погрешность -  0.092754\n",
      "x5:\n",
      "[[1.03260631]\n",
      " [1.04847471]\n",
      " [1.04803996]\n",
      " [1.04572129]] - погрешность -  0.048475\n",
      "x6:\n",
      "[[0.98188538]\n",
      " [0.97370894]\n",
      " [0.97486686]\n",
      " [0.97619526]] - погрешность -  0.026291\n",
      "x7:\n",
      "[[1.00935191]\n",
      " [1.01383564]\n",
      " [1.01361835]\n",
      " [1.01294697]] - погрешность -  0.013836\n",
      "x8:\n",
      "[[0.99487824]\n",
      " [0.99253913]\n",
      " [0.99282768]\n",
      " [0.99320144]] - погрешность -  0.007461\n"
     ]
    }
   ],
   "source": [
    "for i in range(1, 9):\n",
    "    x.append(np.dot(F,x[i-1]) + g)\n",
    "    norm = round(norm_vector(x[i] - x0), 6)\n",
    "    print(\"x\", i, \":\\n\", x[i].reshape(-1, 1), end=\" - \", sep=\"\")\n",
    "    print(\"погрешность - \", norm)"
   ]
  },
  {
   "cell_type": "code",
   "execution_count": 66,
   "id": "8ab1f813",
   "metadata": {},
   "outputs": [
    {
     "data": {
      "text/plain": [
       "0.0348144477372093"
      ]
     },
     "execution_count": 66,
     "metadata": {},
     "output_type": "execute_result"
    }
   ],
   "source": [
    "(norm_matrix(F) ** 8) / (1-norm_matrix(F))"
   ]
  },
  {
   "cell_type": "markdown",
   "id": "05b82f51",
   "metadata": {},
   "source": [
    "# Задание 2"
   ]
  },
  {
   "cell_type": "code",
   "execution_count": 70,
   "id": "b75f9198",
   "metadata": {},
   "outputs": [
    {
     "data": {
      "text/plain": [
       "array([[10.2, -1. ,  2. ,  3. ],\n",
       "       [ 1. , 10.2,  3. ,  2. ],\n",
       "       [ 2. ,  3. , 10.2,  1. ],\n",
       "       [ 3. ,  2. ,  1. , 10.2]])"
      ]
     },
     "execution_count": 70,
     "metadata": {},
     "output_type": "execute_result"
    }
   ],
   "source": [
    "A = np.array([\n",
    "    [10 * beta, -1,         2,         3],\n",
    "    [1,          10 * beta, 3,         2],\n",
    "    [2,          3,         10 * beta, 1],\n",
    "    [3,          2,         1,         10 * beta]\n",
    "], float)\n",
    "A"
   ]
  },
  {
   "cell_type": "code",
   "execution_count": 71,
   "id": "01fb6411",
   "metadata": {},
   "outputs": [
    {
     "data": {
      "text/plain": [
       "array([[ 0.        ,  0.        ,  0.        ,  0.        ],\n",
       "       [-0.09803922,  0.        ,  0.        ,  0.        ],\n",
       "       [-0.19607843, -0.29411765,  0.        ,  0.        ],\n",
       "       [-0.29411765, -0.19607843, -0.09803922,  0.        ]])"
      ]
     },
     "execution_count": 71,
     "metadata": {},
     "output_type": "execute_result"
    }
   ],
   "source": [
    "B = np.array([\n",
    "    [0, 0, 0, 0],\n",
    "    [0, 0, 0, 0],\n",
    "    [0, 0, 0, 0],\n",
    "    [0, 0, 0, 0]\n",
    "], float)\n",
    "for i in range(4):\n",
    "    for j in range(4):\n",
    "        if i > j:\n",
    "            B[i][j] = F[i][j]\n",
    "B"
   ]
  },
  {
   "cell_type": "code",
   "execution_count": 76,
   "id": "93b0a3f9",
   "metadata": {},
   "outputs": [
    {
     "data": {
      "text/plain": [
       "array([[0., 0., 0., 0.],\n",
       "       [0., 0., 0., 0.],\n",
       "       [0., 0., 0., 0.],\n",
       "       [0., 0., 0., 0.]])"
      ]
     },
     "execution_count": 76,
     "metadata": {},
     "output_type": "execute_result"
    }
   ],
   "source": [
    "D = np.array([\n",
    "    [0, 0, 0, 0],\n",
    "    [0, 0, 0, 0],\n",
    "    [0, 0, 0, 0],\n",
    "    [0, 0, 0, 0]\n",
    "], float)\n",
    "for i in range(4):\n",
    "    for j in range(4):\n",
    "        if i == j:\n",
    "            D[i][j] = F[i][j]\n",
    "D"
   ]
  },
  {
   "cell_type": "code",
   "execution_count": 77,
   "id": "a4a50784",
   "metadata": {},
   "outputs": [
    {
     "data": {
      "text/plain": [
       "array([[ 0.        ,  0.        ,  0.        ,  0.        ],\n",
       "       [-0.09803922,  0.        ,  0.        ,  0.        ],\n",
       "       [-0.19607843, -0.29411765,  0.        ,  0.        ],\n",
       "       [-0.29411765, -0.19607843, -0.09803922,  0.        ]])"
      ]
     },
     "execution_count": 77,
     "metadata": {},
     "output_type": "execute_result"
    }
   ],
   "source": [
    "Q = B - D\n",
    "Q"
   ]
  },
  {
   "cell_type": "code",
   "execution_count": 78,
   "id": "6198454c",
   "metadata": {},
   "outputs": [
    {
     "data": {
      "text/plain": [
       "array([[ 0.        ,  0.09803922, -0.19607843, -0.29411765],\n",
       "       [ 0.        ,  0.        , -0.29411765, -0.19607843],\n",
       "       [ 0.        ,  0.        ,  0.        , -0.09803922],\n",
       "       [ 0.        ,  0.        ,  0.        ,  0.        ]])"
      ]
     },
     "execution_count": 78,
     "metadata": {},
     "output_type": "execute_result"
    }
   ],
   "source": [
    "P = F - Q\n",
    "P"
   ]
  },
  {
   "cell_type": "code",
   "execution_count": 86,
   "id": "93d1c7fa",
   "metadata": {},
   "outputs": [
    {
     "name": "stdout",
     "output_type": "stream",
     "text": [
      "y0:\n",
      "[[0]\n",
      " [0]\n",
      " [0]\n",
      " [0]] - погрешность 1.0\n",
      "y1:\n",
      "[[1.39215686]\n",
      " [1.45174933]\n",
      " [0.88827826]\n",
      " [0.80703456]] - погрешность 0.451749\n",
      "y2:\n",
      "[[1.12294991]\n",
      " [1.05864178]\n",
      " [0.97756277]\n",
      " [0.9545396 ]] - погрешность 0.12295\n",
      "y3:\n",
      "[[1.02351936]\n",
      " [1.01320717]\n",
      " [0.9959608 ]\n",
      " [0.9908889 ]] - погрешность 0.023519\n",
      "y4:\n",
      "[[1.00476656]\n",
      " [1.00250718]\n",
      " [0.99922122]\n",
      " [0.99818282]] - погрешность 0.004767\n"
     ]
    }
   ],
   "source": [
    "y = []\n",
    "y.append(np.array([0, 0, 0, 0]))\n",
    "Q_ = np.linalg.inv(E - Q)\n",
    "F_ = np.dot(Q_, P)\n",
    "g_ = np.dot(Q_, g)\n",
    "for i in range(1, 5):\n",
    "    y.append(np.dot(F_, y[i-1]) + g_)\n",
    "for i in range(5):\n",
    "    norm = round(norm_vector(y[i] - x0), 6)\n",
    "    print(\"y\", i, \":\\n\", y[i].reshape(-1, 1), end=\" - \", sep=\"\")\n",
    "    print(\"погрешность\", norm)"
   ]
  },
  {
   "cell_type": "markdown",
   "id": "95192b5c",
   "metadata": {},
   "source": [
    "# Задание 3"
   ]
  },
  {
   "cell_type": "code",
   "execution_count": 87,
   "id": "7cfc138a",
   "metadata": {},
   "outputs": [],
   "source": [
    "from sympy import *\n",
    "init_printing()\n",
    "z=Symbol('z')"
   ]
  },
  {
   "cell_type": "code",
   "execution_count": 89,
   "id": "c4274f2c",
   "metadata": {},
   "outputs": [
    {
     "name": "stdout",
     "output_type": "stream",
     "text": [
      "8.192 -49.208000000000006 -73.80000000000001 442.79200000000003\n"
     ]
    }
   ],
   "source": [
    "N = 3\n",
    "alpha = 0.008 * (51-50)\n",
    "a = N + 5.2 + ((-1)**N)*alpha\n",
    "b = - (2 * N * N + 10.4 * N + ((-1) ** (N+1))* alpha)\n",
    "c = - N ** 3 - (N ** 2) * 5.2\n",
    "d =  2 * N ** 4 + 2 * (N ** 3) * 5.2\n",
    "f = ((-1)**N)*alpha\n",
    "print(a, b, c, d + f)"
   ]
  },
  {
   "cell_type": "code",
   "execution_count": 91,
   "id": "c660d965",
   "metadata": {},
   "outputs": [
    {
     "name": "stdout",
     "output_type": "stream",
     "text": [
      "8.192*z**3 - 49.208*z**2 - 73.8*z + 442.792\n"
     ]
    },
    {
     "data": {
      "image/png": "[encoded data removed]",
      "text/plain": [
       "<Figure size 432x288 with 1 Axes>"
      ]
     },
     "metadata": {
      "needs_background": "light"
     },
     "output_type": "display_data"
    }
   ],
   "source": [
    "f_z = a * z **3 + b * z**2 + c * z + d + f\n",
    "print(f_z)\n",
    "x = np.arange (-10, 20, 0.1)\n",
    "y = list(map(lambda n: f_z.subs({z:n}), x))\n",
    "plt.plot(x, y)\n",
    "plt.show()"
   ]
  },
  {
   "cell_type": "code",
   "execution_count": 92,
   "id": "47e8a917",
   "metadata": {},
   "outputs": [
    {
     "data": {
      "image/png": "[encoded data removed]",
      "text/latex": [
       "$\\displaystyle \\left[ -3.00030722676183 + 7.0 \\cdot 10^{-21} i, \\  2.99799882412022 + 3.0 \\cdot 10^{-20} i, \\  6.00914434014161 + 1.0 \\cdot 10^{-20} i\\right]$"
      ],
      "text/plain": [
       "[-3.00030722676183 + 0.e-20⋅ⅈ, 2.99799882412022 + 0.e-20⋅ⅈ, 6.00914434014161 +\n",
       " 0.e-20⋅ⅈ]"
      ]
     },
     "execution_count": 92,
     "metadata": {},
     "output_type": "execute_result"
    }
   ],
   "source": [
    "solve(f_z)"
   ]
  },
  {
   "cell_type": "code",
   "execution_count": 100,
   "id": "ef796cbb",
   "metadata": {},
   "outputs": [
    {
     "name": "stdout",
     "output_type": "stream",
     "text": [
      "24.576*z**2 - 98.416*z - 73.8\n"
     ]
    }
   ],
   "source": [
    "f_z_p = diff(f_z)\n",
    "print(f_z_p)"
   ]
  },
  {
   "cell_type": "code",
   "execution_count": 120,
   "id": "c540d76d",
   "metadata": {},
   "outputs": [
    {
     "name": "stdout",
     "output_type": "stream",
     "text": [
      "x0 = -3.5, погрешность - 0.5\n",
      "x1 = -3.05757794134109, погрешность - 0.0575779413410946\n",
      "x2 = -3.00119659182177, погрешность - 0.00119659182176690\n",
      "x3 = -3.00030744633837, погрешность - 0.000307446338373207\n",
      "x4 = -3.00030722676185, погрешность - 0.000307226761848245\n"
     ]
    }
   ],
   "source": [
    "x = [-3.5]\n",
    "for i in range(1, 5):\n",
    "    f_ = 1/f_z_p.subs({z:x[i-1]})\n",
    "    f__ = f_z.subs({z:x[i-1]})\n",
    "    x.append(x[i-1] - f_ * f__)\n",
    "for i in range(5):\n",
    "    print(\"x\", i, \" = \", x[i], \", погрешность - \", abs(x[i] + 3), sep=\"\")\n",
    " "
   ]
  },
  {
   "cell_type": "code",
   "execution_count": 277,
   "id": "28f65be7",
   "metadata": {},
   "outputs": [
    {
     "data": {
      "text/latex": [
       "$\\displaystyle \\left[ 17.491, \\  17.591, \\  18.0512542830145, \\  18.0512542830145, \\  18.0118504680345, \\  \\text{NaN}, \\  18.014264577857\\right]$"
      ],
      "text/plain": [
       "[17.491, 17.591, 18.0512542830145, 18.0512542830145, 18.0118504680345, nan, 18\n",
       ".014264577857]"
      ]
     },
     "execution_count": 277,
     "metadata": {},
     "output_type": "execute_result"
    }
   ],
   "source": [
    "x = [17.491, 17.591]\n",
    "for i in range(1, 6):\n",
    "    x.append(x[i-1] - (x[i-1] - x[i-2])*f_z.subs({z:x[i-1]})/((f_z.subs({z:x[i-1]}) - f_z.subs({z:x[i-2]}))))\n",
    "x"
   ]
  },
  {
   "cell_type": "code",
   "execution_count": 132,
   "id": "4e067e5f",
   "metadata": {},
   "outputs": [
    {
     "name": "stdout",
     "output_type": "stream",
     "text": [
      "x0 = 5.494, погрешность - 0.5150000000000006\n",
      "x1 = 5.594, погрешность - 0.41500000000000004\n",
      "x2 = 6.15204136587788, погрешность - 0.143041365877876\n",
      "x3 = 5.98009237449863, погрешность - 0.0289076255013736\n",
      "x4 = 6.00737767278192, погрешность - 0.00162232721808131\n",
      "x5 = 6.00916733698254, погрешность - 0.000167336982536348\n",
      "x6 = 6.00914432212839, погрешность - 0.000144322128386776\n",
      "x7 = 6.00914434014143, погрешность - 0.000144340141429389\n"
     ]
    }
   ],
   "source": [
    "x = [5.494, 5.594]\n",
    "for i in range(2, 8):\n",
    "    x.append(x[i-1] - (x[i-1] - x[i-2]) * f_z.subs({z:x[i-1]}) / (f_z.subs({z:x[i-1]}) - f_z.subs({z:x[i-2]}))\n",
    "            )\n",
    "for i in range(8):\n",
    "    print(\"x\", i, \" = \", x[i], \", погрешность - \", abs(x[i] - 6.009), sep=\"\")\n"
   ]
  },
  {
   "cell_type": "code",
   "execution_count": 140,
   "id": "e930fdcb",
   "metadata": {},
   "outputs": [
    {
     "name": "stdout",
     "output_type": "stream",
     "text": [
      "x0 = 3.502\n",
      "x1 = 3.04015669000324\n",
      "x2 = 3.00076333413465\n",
      "x3 = 2.99817636350616\n"
     ]
    }
   ],
   "source": [
    "x = [3.502]\n",
    "a = 2.501\n",
    "for i in range(1, 4):\n",
    "    x.append(x[i-1] - (x[i-1] - a) * f_z.subs({z:x[i-1]}) / (f_z.subs({z:x[i-1]}) - f_z.subs({z:a})))\n",
    "for i in range(4):\n",
    "    print(\"x\", i, \" = \", x[i], sep=\"\")"
   ]
  }
 ],
 "metadata": {
  "kernelspec": {
   "display_name": "Python 3",
   "language": "python",
   "name": "python3"
  },
  "language_info": {
   "codemirror_mode": {
    "name": "ipython",
    "version": 3
   },
   "file_extension": ".py",
   "mimetype": "text/x-python",
   "name": "python",
   "nbconvert_exporter": "python",
   "pygments_lexer": "ipython3",
   "version": "3.8.8"
  }
 },
 "nbformat": 4,
 "nbformat_minor": 5
}
