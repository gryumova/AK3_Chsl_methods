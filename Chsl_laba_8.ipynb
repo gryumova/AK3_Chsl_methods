{
 "cells": [
  {
   "cell_type": "code",
   "execution_count": 1,
   "id": "a01f9ec7",
   "metadata": {},
   "outputs": [],
   "source": [
    "from sympy import *\n",
    "import numpy as np\n",
    "from pandas import *"
   ]
  },
  {
   "cell_type": "code",
   "execution_count": 2,
   "id": "30ab099d",
   "metadata": {},
   "outputs": [],
   "source": [
    "x = Symbol(\"x\")\n",
    "a = 2\n",
    "b = 4\n",
    "c = 3\n",
    "n = 51"
   ]
  },
  {
   "cell_type": "code",
   "execution_count": 3,
   "id": "ee278d81",
   "metadata": {},
   "outputs": [
    {
     "data": {
      "text/latex": [
       "$\\displaystyle \\frac{4 x^{4} + 2 x^{2} + 3}{\\left(x + 1\\right) \\left(x^{2} + 1\\right)}$"
      ],
      "text/plain": [
       "(4*x**4 + 2*x**2 + 3)/((x + 1)*(x**2 + 1))"
      ]
     },
     "execution_count": 3,
     "metadata": {},
     "output_type": "execute_result"
    }
   ],
   "source": [
    "f = ((a+53-n)*x**4 + (b - 53 + n) * x**2 + c) / ((x+1)*(x**2+1))\n",
    "f"
   ]
  },
  {
   "cell_type": "code",
   "execution_count": 4,
   "id": "52f2196d",
   "metadata": {},
   "outputs": [],
   "source": [
    "k = 20\n",
    "a = 0\n",
    "b = 2\n",
    "h = (b - a) / k"
   ]
  },
  {
   "cell_type": "markdown",
   "id": "fe0c99a1",
   "metadata": {},
   "source": [
    "## Найдем решение интеграла"
   ]
  },
  {
   "cell_type": "code",
   "execution_count": 50,
   "id": "844249c1",
   "metadata": {},
   "outputs": [
    {
     "data": {
      "text/latex": [
       "$\\displaystyle 2 x^{2} - 4 x + \\frac{9 \\log{\\left(x + 1 \\right)}}{2} - \\frac{5 \\log{\\left(x^{2} + 1 \\right)}}{4} + \\frac{5 \\operatorname{atan}{\\left(x \\right)}}{2}$"
      ],
      "text/plain": [
       "2*x**2 - 4*x + 9*log(x + 1)/2 - 5*log(x**2 + 1)/4 + 5*atan(x)/2"
      ]
     },
     "execution_count": 50,
     "metadata": {},
     "output_type": "execute_result"
    }
   ],
   "source": [
    "integrate(f)"
   ]
  },
  {
   "cell_type": "code",
   "execution_count": 51,
   "id": "154972b1",
   "metadata": {},
   "outputs": [
    {
     "data": {
      "text/latex": [
       "$\\displaystyle - \\frac{5 \\log{\\left(5 \\right)}}{4} + \\frac{5 \\operatorname{atan}{\\left(2 \\right)}}{2} + \\frac{9 \\log{\\left(3 \\right)}}{2}$"
      ],
      "text/plain": [
       "-5*log(5)/4 + 5*atan(2)/2 + 9*log(3)/2"
      ]
     },
     "execution_count": 51,
     "metadata": {},
     "output_type": "execute_result"
    }
   ],
   "source": [
    "integrate(f, (x, a, b))"
   ]
  },
  {
   "cell_type": "code",
   "execution_count": 101,
   "id": "137d46f7",
   "metadata": {},
   "outputs": [
    {
     "data": {
      "text/latex": [
       "$\\displaystyle 5.69983$"
      ],
      "text/plain": [
       "5.699830"
      ]
     },
     "execution_count": 101,
     "metadata": {},
     "output_type": "execute_result"
    }
   ],
   "source": [
    "answer = round(integrate(f, (x, a, b)), 6)\n",
    "answer"
   ]
  },
  {
   "cell_type": "markdown",
   "id": "7227348c",
   "metadata": {},
   "source": [
    "##  Равномерная сетка"
   ]
  },
  {
   "cell_type": "code",
   "execution_count": 70,
   "id": "f926f95c",
   "metadata": {},
   "outputs": [
    {
     "data": {
      "text/html": [
       "<div>\n",
       "<style scoped>\n",
       "    .dataframe tbody tr th:only-of-type {\n",
       "        vertical-align: middle;\n",
       "    }\n",
       "\n",
       "    .dataframe tbody tr th {\n",
       "        vertical-align: top;\n",
       "    }\n",
       "\n",
       "    .dataframe thead th {\n",
       "        text-align: right;\n",
       "    }\n",
       "</style>\n",
       "<table border=\"1\" class=\"dataframe\">\n",
       "  <thead>\n",
       "    <tr style=\"text-align: right;\">\n",
       "      <th></th>\n",
       "      <th>сетка</th>\n",
       "    </tr>\n",
       "  </thead>\n",
       "  <tbody>\n",
       "    <tr>\n",
       "      <th>0</th>\n",
       "      <td>0.0</td>\n",
       "    </tr>\n",
       "    <tr>\n",
       "      <th>1</th>\n",
       "      <td>0.1</td>\n",
       "    </tr>\n",
       "    <tr>\n",
       "      <th>2</th>\n",
       "      <td>0.2</td>\n",
       "    </tr>\n",
       "    <tr>\n",
       "      <th>3</th>\n",
       "      <td>0.3</td>\n",
       "    </tr>\n",
       "    <tr>\n",
       "      <th>4</th>\n",
       "      <td>0.4</td>\n",
       "    </tr>\n",
       "    <tr>\n",
       "      <th>5</th>\n",
       "      <td>0.5</td>\n",
       "    </tr>\n",
       "    <tr>\n",
       "      <th>6</th>\n",
       "      <td>0.6</td>\n",
       "    </tr>\n",
       "    <tr>\n",
       "      <th>7</th>\n",
       "      <td>0.7</td>\n",
       "    </tr>\n",
       "    <tr>\n",
       "      <th>8</th>\n",
       "      <td>0.8</td>\n",
       "    </tr>\n",
       "    <tr>\n",
       "      <th>9</th>\n",
       "      <td>0.9</td>\n",
       "    </tr>\n",
       "    <tr>\n",
       "      <th>10</th>\n",
       "      <td>1.0</td>\n",
       "    </tr>\n",
       "    <tr>\n",
       "      <th>11</th>\n",
       "      <td>1.1</td>\n",
       "    </tr>\n",
       "    <tr>\n",
       "      <th>12</th>\n",
       "      <td>1.2</td>\n",
       "    </tr>\n",
       "    <tr>\n",
       "      <th>13</th>\n",
       "      <td>1.3</td>\n",
       "    </tr>\n",
       "    <tr>\n",
       "      <th>14</th>\n",
       "      <td>1.4</td>\n",
       "    </tr>\n",
       "    <tr>\n",
       "      <th>15</th>\n",
       "      <td>1.5</td>\n",
       "    </tr>\n",
       "    <tr>\n",
       "      <th>16</th>\n",
       "      <td>1.6</td>\n",
       "    </tr>\n",
       "    <tr>\n",
       "      <th>17</th>\n",
       "      <td>1.7</td>\n",
       "    </tr>\n",
       "    <tr>\n",
       "      <th>18</th>\n",
       "      <td>1.8</td>\n",
       "    </tr>\n",
       "    <tr>\n",
       "      <th>19</th>\n",
       "      <td>1.9</td>\n",
       "    </tr>\n",
       "    <tr>\n",
       "      <th>20</th>\n",
       "      <td>2.0</td>\n",
       "    </tr>\n",
       "  </tbody>\n",
       "</table>\n",
       "</div>"
      ],
      "text/plain": [
       "    сетка\n",
       "0     0.0\n",
       "1     0.1\n",
       "2     0.2\n",
       "3     0.3\n",
       "4     0.4\n",
       "5     0.5\n",
       "6     0.6\n",
       "7     0.7\n",
       "8     0.8\n",
       "9     0.9\n",
       "10    1.0\n",
       "11    1.1\n",
       "12    1.2\n",
       "13    1.3\n",
       "14    1.4\n",
       "15    1.5\n",
       "16    1.6\n",
       "17    1.7\n",
       "18    1.8\n",
       "19    1.9\n",
       "20    2.0"
      ]
     },
     "execution_count": 70,
     "metadata": {},
     "output_type": "execute_result"
    }
   ],
   "source": [
    "t_r = np.arange(0, 2.1, h)\n",
    "t_r_df = DataFrame({\"сетка\":t})\n",
    "t_r_df"
   ]
  },
  {
   "cell_type": "markdown",
   "id": "4ae88781",
   "metadata": {},
   "source": [
    "### Центрально равномерная сетка"
   ]
  },
  {
   "cell_type": "code",
   "execution_count": 72,
   "id": "8ceab1a5",
   "metadata": {},
   "outputs": [
    {
     "data": {
      "text/html": [
       "<div>\n",
       "<style scoped>\n",
       "    .dataframe tbody tr th:only-of-type {\n",
       "        vertical-align: middle;\n",
       "    }\n",
       "\n",
       "    .dataframe tbody tr th {\n",
       "        vertical-align: top;\n",
       "    }\n",
       "\n",
       "    .dataframe thead th {\n",
       "        text-align: right;\n",
       "    }\n",
       "</style>\n",
       "<table border=\"1\" class=\"dataframe\">\n",
       "  <thead>\n",
       "    <tr style=\"text-align: right;\">\n",
       "      <th></th>\n",
       "      <th>сетка</th>\n",
       "    </tr>\n",
       "  </thead>\n",
       "  <tbody>\n",
       "    <tr>\n",
       "      <th>0</th>\n",
       "      <td>0.05</td>\n",
       "    </tr>\n",
       "    <tr>\n",
       "      <th>1</th>\n",
       "      <td>0.15</td>\n",
       "    </tr>\n",
       "    <tr>\n",
       "      <th>2</th>\n",
       "      <td>0.25</td>\n",
       "    </tr>\n",
       "    <tr>\n",
       "      <th>3</th>\n",
       "      <td>0.35</td>\n",
       "    </tr>\n",
       "    <tr>\n",
       "      <th>4</th>\n",
       "      <td>0.45</td>\n",
       "    </tr>\n",
       "    <tr>\n",
       "      <th>5</th>\n",
       "      <td>0.55</td>\n",
       "    </tr>\n",
       "    <tr>\n",
       "      <th>6</th>\n",
       "      <td>0.65</td>\n",
       "    </tr>\n",
       "    <tr>\n",
       "      <th>7</th>\n",
       "      <td>0.75</td>\n",
       "    </tr>\n",
       "    <tr>\n",
       "      <th>8</th>\n",
       "      <td>0.85</td>\n",
       "    </tr>\n",
       "    <tr>\n",
       "      <th>9</th>\n",
       "      <td>0.95</td>\n",
       "    </tr>\n",
       "    <tr>\n",
       "      <th>10</th>\n",
       "      <td>1.05</td>\n",
       "    </tr>\n",
       "    <tr>\n",
       "      <th>11</th>\n",
       "      <td>1.15</td>\n",
       "    </tr>\n",
       "    <tr>\n",
       "      <th>12</th>\n",
       "      <td>1.25</td>\n",
       "    </tr>\n",
       "    <tr>\n",
       "      <th>13</th>\n",
       "      <td>1.35</td>\n",
       "    </tr>\n",
       "    <tr>\n",
       "      <th>14</th>\n",
       "      <td>1.45</td>\n",
       "    </tr>\n",
       "    <tr>\n",
       "      <th>15</th>\n",
       "      <td>1.55</td>\n",
       "    </tr>\n",
       "    <tr>\n",
       "      <th>16</th>\n",
       "      <td>1.65</td>\n",
       "    </tr>\n",
       "    <tr>\n",
       "      <th>17</th>\n",
       "      <td>1.75</td>\n",
       "    </tr>\n",
       "    <tr>\n",
       "      <th>18</th>\n",
       "      <td>1.85</td>\n",
       "    </tr>\n",
       "    <tr>\n",
       "      <th>19</th>\n",
       "      <td>1.95</td>\n",
       "    </tr>\n",
       "  </tbody>\n",
       "</table>\n",
       "</div>"
      ],
      "text/plain": [
       "    сетка\n",
       "0    0.05\n",
       "1    0.15\n",
       "2    0.25\n",
       "3    0.35\n",
       "4    0.45\n",
       "5    0.55\n",
       "6    0.65\n",
       "7    0.75\n",
       "8    0.85\n",
       "9    0.95\n",
       "10   1.05\n",
       "11   1.15\n",
       "12   1.25\n",
       "13   1.35\n",
       "14   1.45\n",
       "15   1.55\n",
       "16   1.65\n",
       "17   1.75\n",
       "18   1.85\n",
       "19   1.95"
      ]
     },
     "execution_count": 72,
     "metadata": {},
     "output_type": "execute_result"
    }
   ],
   "source": [
    "t = np.array([(t_r[i] + t_r[i+1])/2 for i in range(k)])\n",
    "t_df = DataFrame({\"сетка\":t})\n",
    "t_df"
   ]
  },
  {
   "cell_type": "markdown",
   "id": "2713e554",
   "metadata": {},
   "source": [
    "### Значения в узлах этой центрально равномерной сетки"
   ]
  },
  {
   "cell_type": "code",
   "execution_count": 78,
   "id": "ef0a20f5",
   "metadata": {},
   "outputs": [
    {
     "data": {
      "text/html": [
       "<div>\n",
       "<style scoped>\n",
       "    .dataframe tbody tr th:only-of-type {\n",
       "        vertical-align: middle;\n",
       "    }\n",
       "\n",
       "    .dataframe tbody tr th {\n",
       "        vertical-align: top;\n",
       "    }\n",
       "\n",
       "    .dataframe thead th {\n",
       "        text-align: right;\n",
       "    }\n",
       "</style>\n",
       "<table border=\"1\" class=\"dataframe\">\n",
       "  <thead>\n",
       "    <tr style=\"text-align: right;\">\n",
       "      <th></th>\n",
       "      <th>значения в узлах</th>\n",
       "    </tr>\n",
       "  </thead>\n",
       "  <tbody>\n",
       "    <tr>\n",
       "      <th>0</th>\n",
       "      <td>2.85479159244745</td>\n",
       "    </tr>\n",
       "    <tr>\n",
       "      <th>1</th>\n",
       "      <td>2.59128308706283</td>\n",
       "    </tr>\n",
       "    <tr>\n",
       "      <th>2</th>\n",
       "      <td>2.36470588235294</td>\n",
       "    </tr>\n",
       "    <tr>\n",
       "      <th>3</th>\n",
       "      <td>2.18099480326652</td>\n",
       "    </tr>\n",
       "    <tr>\n",
       "      <th>4</th>\n",
       "      <td>2.04689941931321</td>\n",
       "    </tr>\n",
       "    <tr>\n",
       "      <th>5</th>\n",
       "      <td>1.96694941489691</td>\n",
       "    </tr>\n",
       "    <tr>\n",
       "      <th>6</th>\n",
       "      <td>1.94238696277361</td>\n",
       "    </tr>\n",
       "    <tr>\n",
       "      <th>7</th>\n",
       "      <td>1.97142857142857</td>\n",
       "    </tr>\n",
       "    <tr>\n",
       "      <th>8</th>\n",
       "      <td>2.05013925391284</td>\n",
       "    </tr>\n",
       "    <tr>\n",
       "      <th>9</th>\n",
       "      <td>2.17339533003134</td>\n",
       "    </tr>\n",
       "    <tr>\n",
       "      <th>10</th>\n",
       "      <td>2.33566891911488</td>\n",
       "    </tr>\n",
       "    <tr>\n",
       "      <th>11</th>\n",
       "      <td>2.53155931609382</td>\n",
       "    </tr>\n",
       "    <tr>\n",
       "      <th>12</th>\n",
       "      <td>2.75609756097561</td>\n",
       "    </tr>\n",
       "    <tr>\n",
       "      <th>13</th>\n",
       "      <td>3.00488475962535</td>\n",
       "    </tr>\n",
       "    <tr>\n",
       "      <th>14</th>\n",
       "      <td>3.27412389613380</td>\n",
       "    </tr>\n",
       "    <tr>\n",
       "      <th>15</th>\n",
       "      <td>3.56059126075118</td>\n",
       "    </tr>\n",
       "    <tr>\n",
       "      <th>16</th>\n",
       "      <td>3.86157862057605</td>\n",
       "    </tr>\n",
       "    <tr>\n",
       "      <th>17</th>\n",
       "      <td>4.17482517482518</td>\n",
       "    </tr>\n",
       "    <tr>\n",
       "      <th>18</th>\n",
       "      <td>4.49844991223112</td>\n",
       "    </tr>\n",
       "    <tr>\n",
       "      <th>19</th>\n",
       "      <td>4.83088963198899</td>\n",
       "    </tr>\n",
       "  </tbody>\n",
       "</table>\n",
       "</div>"
      ],
      "text/plain": [
       "    значения в узлах\n",
       "0   2.85479159244745\n",
       "1   2.59128308706283\n",
       "2   2.36470588235294\n",
       "3   2.18099480326652\n",
       "4   2.04689941931321\n",
       "5   1.96694941489691\n",
       "6   1.94238696277361\n",
       "7   1.97142857142857\n",
       "8   2.05013925391284\n",
       "9   2.17339533003134\n",
       "10  2.33566891911488\n",
       "11  2.53155931609382\n",
       "12  2.75609756097561\n",
       "13  3.00488475962535\n",
       "14  3.27412389613380\n",
       "15  3.56059126075118\n",
       "16  3.86157862057605\n",
       "17  4.17482517482518\n",
       "18  4.49844991223112\n",
       "19  4.83088963198899"
      ]
     },
     "execution_count": 78,
     "metadata": {},
     "output_type": "execute_result"
    }
   ],
   "source": [
    "y = [f.subs(x, t[i]) for i in range(k)]\n",
    "y_df = DataFrame({\"значения в узлах\":y})\n",
    "y_df"
   ]
  },
  {
   "cell_type": "markdown",
   "id": "be3cf2bc",
   "metadata": {},
   "source": [
    "### Значения в узлах этой  равномерной сетки"
   ]
  },
  {
   "cell_type": "code",
   "execution_count": 92,
   "id": "727f63e1",
   "metadata": {},
   "outputs": [
    {
     "data": {
      "text/html": [
       "<div>\n",
       "<style scoped>\n",
       "    .dataframe tbody tr th:only-of-type {\n",
       "        vertical-align: middle;\n",
       "    }\n",
       "\n",
       "    .dataframe tbody tr th {\n",
       "        vertical-align: top;\n",
       "    }\n",
       "\n",
       "    .dataframe thead th {\n",
       "        text-align: right;\n",
       "    }\n",
       "</style>\n",
       "<table border=\"1\" class=\"dataframe\">\n",
       "  <thead>\n",
       "    <tr style=\"text-align: right;\">\n",
       "      <th></th>\n",
       "      <th>значения в узлах</th>\n",
       "    </tr>\n",
       "  </thead>\n",
       "  <tbody>\n",
       "    <tr>\n",
       "      <th>0</th>\n",
       "      <td>3.00000000000000</td>\n",
       "    </tr>\n",
       "    <tr>\n",
       "      <th>1</th>\n",
       "      <td>2.71863186318632</td>\n",
       "    </tr>\n",
       "    <tr>\n",
       "      <th>2</th>\n",
       "      <td>2.47307692307692</td>\n",
       "    </tr>\n",
       "    <tr>\n",
       "      <th>3</th>\n",
       "      <td>2.26704304869442</td>\n",
       "    </tr>\n",
       "    <tr>\n",
       "      <th>4</th>\n",
       "      <td>2.10738916256158</td>\n",
       "    </tr>\n",
       "    <tr>\n",
       "      <th>5</th>\n",
       "      <td>2.00000000000000</td>\n",
       "    </tr>\n",
       "    <tr>\n",
       "      <th>6</th>\n",
       "      <td>1.94779411764706</td>\n",
       "    </tr>\n",
       "    <tr>\n",
       "      <th>7</th>\n",
       "      <td>1.95041452822740</td>\n",
       "    </tr>\n",
       "    <tr>\n",
       "      <th>8</th>\n",
       "      <td>2.00487804878049</td>\n",
       "    </tr>\n",
       "    <tr>\n",
       "      <th>9</th>\n",
       "      <td>2.10654259959291</td>\n",
       "    </tr>\n",
       "    <tr>\n",
       "      <th>10</th>\n",
       "      <td>2.25000000000000</td>\n",
       "    </tr>\n",
       "    <tr>\n",
       "      <th>11</th>\n",
       "      <td>2.42973497091144</td>\n",
       "    </tr>\n",
       "    <tr>\n",
       "      <th>12</th>\n",
       "      <td>2.64053651266766</td>\n",
       "    </tr>\n",
       "    <tr>\n",
       "      <th>13</th>\n",
       "      <td>2.87771133020850</td>\n",
       "    </tr>\n",
       "    <tr>\n",
       "      <th>14</th>\n",
       "      <td>3.13716216216216</td>\n",
       "    </tr>\n",
       "    <tr>\n",
       "      <th>15</th>\n",
       "      <td>3.41538461538462</td>\n",
       "    </tr>\n",
       "    <tr>\n",
       "      <th>16</th>\n",
       "      <td>3.70942091616249</td>\n",
       "    </tr>\n",
       "    <tr>\n",
       "      <th>17</th>\n",
       "      <td>4.01679520137104</td>\n",
       "    </tr>\n",
       "    <tr>\n",
       "      <th>18</th>\n",
       "      <td>4.33544474393531</td>\n",
       "    </tr>\n",
       "    <tr>\n",
       "      <th>19</th>\n",
       "      <td>4.66365472361433</td>\n",
       "    </tr>\n",
       "    <tr>\n",
       "      <th>20</th>\n",
       "      <td>5.00000000000000</td>\n",
       "    </tr>\n",
       "  </tbody>\n",
       "</table>\n",
       "</div>"
      ],
      "text/plain": [
       "    значения в узлах\n",
       "0   3.00000000000000\n",
       "1   2.71863186318632\n",
       "2   2.47307692307692\n",
       "3   2.26704304869442\n",
       "4   2.10738916256158\n",
       "5   2.00000000000000\n",
       "6   1.94779411764706\n",
       "7   1.95041452822740\n",
       "8   2.00487804878049\n",
       "9   2.10654259959291\n",
       "10  2.25000000000000\n",
       "11  2.42973497091144\n",
       "12  2.64053651266766\n",
       "13  2.87771133020850\n",
       "14  3.13716216216216\n",
       "15  3.41538461538462\n",
       "16  3.70942091616249\n",
       "17  4.01679520137104\n",
       "18  4.33544474393531\n",
       "19  4.66365472361433\n",
       "20  5.00000000000000"
      ]
     },
     "execution_count": 92,
     "metadata": {},
     "output_type": "execute_result"
    }
   ],
   "source": [
    "y_r = [f.subs(x, t_r[i]) for i in range(k+1)]\n",
    "y_r_df = DataFrame({\"значения в узлах\":y_r})\n",
    "y_r_df"
   ]
  },
  {
   "cell_type": "markdown",
   "id": "bcdcab5a",
   "metadata": {},
   "source": [
    "## Метод прямоугольников\n",
    "$\\int_a^b f(\\tau)d\\tau=h*(f(\\Theta_1)+...+f(\\Theta_k)+O(h)$"
   ]
  },
  {
   "cell_type": "code",
   "execution_count": 66,
   "id": "79ae02dc",
   "metadata": {},
   "outputs": [
    {
     "data": {
      "text/latex": [
       "$\\displaystyle 5.69716433698022$"
      ],
      "text/plain": [
       "5.69716433698022"
      ]
     },
     "execution_count": 66,
     "metadata": {},
     "output_type": "execute_result"
    }
   ],
   "source": [
    "integral1 = np.array([h*y[i] for i in range(k)]).sum()\n",
    "integral1"
   ]
  },
  {
   "cell_type": "markdown",
   "id": "6997a039",
   "metadata": {},
   "source": [
    "## Метод трапеций\n",
    "$\\int_a^b f(\\tau)d\\tau=h*(\\frac{1}{2}*f(\\Theta_0)+f(\\Theta_1)+...+f(\\Theta_{k-1})+\\frac{1}{2}*f(\\Theta_k))+O(h^2)$"
   ]
  },
  {
   "cell_type": "code",
   "execution_count": 80,
   "id": "e2cc7531",
   "metadata": {},
   "outputs": [],
   "source": [
    "integral2 = h * y_r[0] * 1/2\n",
    "for i in range(1, k):\n",
    "    integral2+=h*y_r[i]\n",
    "integral2 += 1/2 * h * y_r[k]"
   ]
  },
  {
   "cell_type": "code",
   "execution_count": 81,
   "id": "282f4049",
   "metadata": {},
   "outputs": [
    {
     "data": {
      "text/latex": [
       "$\\displaystyle 5.70516154681846$"
      ],
      "text/plain": [
       "5.70516154681846"
      ]
     },
     "execution_count": 81,
     "metadata": {},
     "output_type": "execute_result"
    }
   ],
   "source": [
    "integral2"
   ]
  },
  {
   "cell_type": "markdown",
   "id": "17e9384c",
   "metadata": {},
   "source": [
    "### Квадратурные формулы парабол\n",
    "$\\int_a^b f(\\tau)d\\tau=\\frac{р}{3}*(f(\\Theta_0)+4*f(\\Theta_1)+2*f(\\Theta_2)+4*f(\\Theta_2)+...+4f(\\Theta_{k-1})+f(\\Theta_k))+O(h^3)$"
   ]
  },
  {
   "cell_type": "code",
   "execution_count": 98,
   "id": "e240932d",
   "metadata": {},
   "outputs": [],
   "source": [
    "integral3 = y_r.copy()\n",
    "for i in range(1, k):\n",
    "    if i % 2 == 1:\n",
    "        integral3[i] = integral3[i] * 4\n",
    "    else:\n",
    "        integral3[i] *= 2\n",
    "        \n",
    "integral3 = np.array(integral3).sum() * h/3"
   ]
  },
  {
   "cell_type": "code",
   "execution_count": 99,
   "id": "fc069a1c",
   "metadata": {},
   "outputs": [
    {
     "data": {
      "text/latex": [
       "$\\displaystyle 5.69983522329171$"
      ],
      "text/plain": [
       "5.69983522329171"
      ]
     },
     "execution_count": 99,
     "metadata": {},
     "output_type": "execute_result"
    }
   ],
   "source": [
    "integral3"
   ]
  },
  {
   "cell_type": "markdown",
   "id": "8c7f83b0",
   "metadata": {},
   "source": [
    "# Запишем полученные значения в таблицу"
   ]
  },
  {
   "cell_type": "code",
   "execution_count": 105,
   "id": "9c5d8b99",
   "metadata": {},
   "outputs": [],
   "source": [
    "result = DataFrame({\"аналитическое\":answer, \n",
    "                    \"метод прям.\": integral1, \n",
    "                    \"метод трапеции\": integral2,\n",
    "                    \"квадр. формулы парабол\": integral3}, \n",
    "                  index=range(1))"
   ]
  },
  {
   "cell_type": "code",
   "execution_count": 106,
   "id": "e41a85be",
   "metadata": {},
   "outputs": [
    {
     "data": {
      "text/html": [
       "<div>\n",
       "<style scoped>\n",
       "    .dataframe tbody tr th:only-of-type {\n",
       "        vertical-align: middle;\n",
       "    }\n",
       "\n",
       "    .dataframe tbody tr th {\n",
       "        vertical-align: top;\n",
       "    }\n",
       "\n",
       "    .dataframe thead th {\n",
       "        text-align: right;\n",
       "    }\n",
       "</style>\n",
       "<table border=\"1\" class=\"dataframe\">\n",
       "  <thead>\n",
       "    <tr style=\"text-align: right;\">\n",
       "      <th></th>\n",
       "      <th>аналитическое</th>\n",
       "      <th>метод прям.</th>\n",
       "      <th>метод трапеции</th>\n",
       "      <th>квадр. формулы парабол</th>\n",
       "    </tr>\n",
       "  </thead>\n",
       "  <tbody>\n",
       "    <tr>\n",
       "      <th>0</th>\n",
       "      <td>5.699830</td>\n",
       "      <td>5.69716433698022</td>\n",
       "      <td>5.70516154681846</td>\n",
       "      <td>5.69983522329171</td>\n",
       "    </tr>\n",
       "  </tbody>\n",
       "</table>\n",
       "</div>"
      ],
      "text/plain": [
       "  аналитическое       метод прям.    метод трапеции квадр. формулы парабол\n",
       "0      5.699830  5.69716433698022  5.70516154681846       5.69983522329171"
      ]
     },
     "execution_count": 106,
     "metadata": {},
     "output_type": "execute_result"
    }
   ],
   "source": [
    "result"
   ]
  },
  {
   "cell_type": "markdown",
   "id": "f10cd8ec",
   "metadata": {},
   "source": [
    "# 2 часть\n",
    "Вычислим приближенно интеграл, пологая, что $\\newline\\int_a^b f(\\tau)d\\tau=\\int_a^b L_k(\\tau)d\\tau$"
   ]
  },
  {
   "cell_type": "markdown",
   "id": "df553b0e",
   "metadata": {},
   "source": [
    "### Для чебышевской сетки"
   ]
  },
  {
   "cell_type": "markdown",
   "id": "f3b44d09",
   "metadata": {},
   "source": [
    "Построим чебышевскую сетку по формуле\n",
    "$B = <t_j=\\frac{a+b}{2} - \\frac{b-a}{2} * cos\\frac{(2j+1)*\\pi}{2(k+1)}:j=\\overline{0,k}>$"
   ]
  },
  {
   "cell_type": "code",
   "execution_count": 13,
   "id": "d3100fcd",
   "metadata": {},
   "outputs": [],
   "source": [
    "koef1 = (a + b)/2\n",
    "koef2 = (b - a)/2\n",
    "B = []\n",
    "for j in range(11):\n",
    "    temp = koef1 - koef2 * np.cos(((2 * j  + 1) * np.pi)/22)\n",
    "    B.append(temp)"
   ]
  },
  {
   "cell_type": "code",
   "execution_count": 14,
   "id": "731c03bb",
   "metadata": {},
   "outputs": [
    {
     "name": "stdout",
     "output_type": "stream",
     "text": [
      "Значения в узлах сетки:\n",
      "\n",
      "2.96966949704690\n",
      "2.74417844111918\n",
      "2.37664005071437\n",
      "2.03707600320236\n",
      "1.95661358208377\n",
      "2.25000000000000\n",
      "2.83261012186511\n",
      "3.53312601095944\n",
      "4.19316731591407\n",
      "4.69571795067827\n",
      "4.96542900834485\n"
     ]
    }
   ],
   "source": [
    "fB = [f.subs(x, i) for i in B]\n",
    "print(\"Значения в узлах сетки:\\n\")\n",
    "for i in fB:\n",
    "    print(i)"
   ]
  },
  {
   "cell_type": "code",
   "execution_count": 15,
   "id": "75b2ff62",
   "metadata": {},
   "outputs": [],
   "source": [
    "from numpy import linalg as LA\n",
    "A = []\n",
    "for i in B:\n",
    "    temp = []\n",
    "    for j in range(11):\n",
    "        temp.append(i ** j)\n",
    "    A.append(temp)\n",
    "A = np.array(A)"
   ]
  },
  {
   "cell_type": "code",
   "execution_count": 16,
   "id": "01e3c74e",
   "metadata": {},
   "outputs": [],
   "source": [
    "A_inv = LA.inv(A)"
   ]
  },
  {
   "cell_type": "code",
   "execution_count": 17,
   "id": "a4e34ae9",
   "metadata": {
    "scrolled": true
   },
   "outputs": [
    {
     "data": {
      "text/html": [
       "<div>\n",
       "<style scoped>\n",
       "    .dataframe tbody tr th:only-of-type {\n",
       "        vertical-align: middle;\n",
       "    }\n",
       "\n",
       "    .dataframe tbody tr th {\n",
       "        vertical-align: top;\n",
       "    }\n",
       "\n",
       "    .dataframe thead th {\n",
       "        text-align: right;\n",
       "    }\n",
       "</style>\n",
       "<table border=\"1\" class=\"dataframe\">\n",
       "  <thead>\n",
       "    <tr style=\"text-align: right;\">\n",
       "      <th></th>\n",
       "      <th>Коэффициенты полинома</th>\n",
       "    </tr>\n",
       "  </thead>\n",
       "  <tbody>\n",
       "    <tr>\n",
       "      <th>0</th>\n",
       "      <td>3.00005356498424</td>\n",
       "    </tr>\n",
       "    <tr>\n",
       "      <th>1</th>\n",
       "      <td>-3.00649223943304</td>\n",
       "    </tr>\n",
       "    <tr>\n",
       "      <th>2</th>\n",
       "      <td>2.13088052491504</td>\n",
       "    </tr>\n",
       "    <tr>\n",
       "      <th>3</th>\n",
       "      <td>-3.02979773529921</td>\n",
       "    </tr>\n",
       "    <tr>\n",
       "      <th>4</th>\n",
       "      <td>11.0953937393965</td>\n",
       "    </tr>\n",
       "    <tr>\n",
       "      <th>5</th>\n",
       "      <td>-16.0311639277379</td>\n",
       "    </tr>\n",
       "    <tr>\n",
       "      <th>6</th>\n",
       "      <td>12.6552067399416</td>\n",
       "    </tr>\n",
       "    <tr>\n",
       "      <th>7</th>\n",
       "      <td>-6.06428674725612</td>\n",
       "    </tr>\n",
       "    <tr>\n",
       "      <th>8</th>\n",
       "      <td>1.77006833455107</td>\n",
       "    </tr>\n",
       "    <tr>\n",
       "      <th>9</th>\n",
       "      <td>-0.290421207521490</td>\n",
       "    </tr>\n",
       "    <tr>\n",
       "      <th>10</th>\n",
       "      <td>0.0205589546336284</td>\n",
       "    </tr>\n",
       "  </tbody>\n",
       "</table>\n",
       "</div>"
      ],
      "text/plain": [
       "   Коэффициенты полинома\n",
       "0       3.00005356498424\n",
       "1      -3.00649223943304\n",
       "2       2.13088052491504\n",
       "3      -3.02979773529921\n",
       "4       11.0953937393965\n",
       "5      -16.0311639277379\n",
       "6       12.6552067399416\n",
       "7      -6.06428674725612\n",
       "8       1.77006833455107\n",
       "9     -0.290421207521490\n",
       "10    0.0205589546336284"
      ]
     },
     "execution_count": 17,
     "metadata": {},
     "output_type": "execute_result"
    }
   ],
   "source": [
    "x_ = np.dot(A_inv, fB)\n",
    "x_df = DataFrame({\"Коэффициенты полинома\":x_})\n",
    "x_df"
   ]
  },
  {
   "cell_type": "markdown",
   "id": "b46548f2",
   "metadata": {},
   "source": [
    "### Интеграл будет иметь вид \n",
    "$\\int L_k(\\tau) d\\tau = x_0 \\tau + x_1 \\frac{\\tau^2}{2} + ... + x_k \\frac{\\tau^{k+1}}{k+1} + C, где x_o, ..., x_k, k = 10 - коэффициенты полинома$ \n",
    "$\\int_a^b L_k(\\tau) d\\tau = x_0 (2-0) + x_1 \\frac{(2-0)^2}{2} + ... + x_{10} \\frac{(2-0)^{11}}{11}$"
   ]
  },
  {
   "cell_type": "code",
   "execution_count": 18,
   "id": "8776cd68",
   "metadata": {},
   "outputs": [
    {
     "data": {
      "text/latex": [
       "$\\displaystyle 5.69982928705673$"
      ],
      "text/plain": [
       "5.69982928705673"
      ]
     },
     "execution_count": 18,
     "metadata": {},
     "output_type": "execute_result"
    }
   ],
   "source": [
    "L_integral = 0\n",
    "for i in range(11):\n",
    "    L_integral += x_[i]* 2**(i+1) / (i + 1)\n",
    "L_integral"
   ]
  }
 ],
 "metadata": {
  "kernelspec": {
   "display_name": "Python 3",
   "language": "python",
   "name": "python3"
  },
  "language_info": {
   "codemirror_mode": {
    "name": "ipython",
    "version": 3
   },
   "file_extension": ".py",
   "mimetype": "text/x-python",
   "name": "python",
   "nbconvert_exporter": "python",
   "pygments_lexer": "ipython3",
   "version": "3.8.8"
  }
 },
 "nbformat": 4,
 "nbformat_minor": 5
}
