{
 "cells": [
  {
   "cell_type": "code",
   "execution_count": 1,
   "id": "46e9f8d0",
   "metadata": {},
   "outputs": [],
   "source": [
    "import numpy as np"
   ]
  },
  {
   "cell_type": "code",
   "execution_count": 91,
   "id": "02fa8d23",
   "metadata": {},
   "outputs": [],
   "source": [
    "a = 0\n",
    "b = 1\n",
    "k = 40\n",
    "N = 3\n",
    "n = 51"
   ]
  },
  {
   "cell_type": "code",
   "execution_count": 92,
   "id": "6dd8c22f",
   "metadata": {},
   "outputs": [
    {
     "data": {
      "text/plain": [
       "0.025"
      ]
     },
     "execution_count": 92,
     "metadata": {},
     "output_type": "execute_result"
    }
   ],
   "source": [
    "h = (b - a) / k\n",
    "h"
   ]
  },
  {
   "cell_type": "code",
   "execution_count": 105,
   "id": "ce133691",
   "metadata": {},
   "outputs": [],
   "source": [
    "def print_value(g):\n",
    "    for i in g:\n",
    "        print(round(i, 4))"
   ]
  },
  {
   "cell_type": "markdown",
   "id": "c8cb5c0e",
   "metadata": {},
   "source": [
    "$f(\\tau) = 3\\sin (\\pi\\tau)\\sqrt{65-n+N\\tau\\sqrt{30-N}}\\\\  f(\\tau) = 3\\sin (\\pi\\tau)\\sqrt{14+9\\tau\\sqrt{3}}$ "
   ]
  },
  {
   "cell_type": "code",
   "execution_count": 112,
   "id": "5e72d21c",
   "metadata": {},
   "outputs": [],
   "source": [
    "def f(t):\n",
    "    return 3 * np.sin(np.pi * t) * np.sqrt(14 + 9 * t * np.sqrt(3))"
   ]
  },
  {
   "cell_type": "code",
   "execution_count": 110,
   "id": "df0ecffd",
   "metadata": {},
   "outputs": [
    {
     "name": "stdout",
     "output_type": "stream",
     "text": [
      "Равномерная сетка\n",
      "0\n",
      "0.025\n",
      "0.05\n",
      "0.075\n",
      "0.1\n",
      "0.125\n",
      "0.15\n",
      "0.175\n",
      "0.2\n",
      "0.225\n",
      "0.25\n",
      "0.275\n",
      "0.3\n",
      "0.325\n",
      "0.35\n",
      "0.375\n",
      "0.4\n",
      "0.425\n",
      "0.45\n",
      "0.475\n",
      "0.5\n",
      "0.525\n",
      "0.55\n",
      "0.575\n",
      "0.6\n",
      "0.625\n",
      "0.65\n",
      "0.675\n",
      "0.7\n",
      "0.725\n",
      "0.75\n",
      "0.775\n",
      "0.8\n",
      "0.825\n",
      "0.85\n",
      "0.875\n",
      "0.9\n",
      "0.925\n",
      "0.95\n",
      "0.975\n",
      "1.0\n"
     ]
    }
   ],
   "source": [
    "# Равномерная сетка\n",
    "i = a\n",
    "A = []\n",
    "while (i <= b + 0.001):\n",
    "    A.append(i)\n",
    "    i += h\n",
    "print(\"Равномерная сетка\")\n",
    "print_value(A)"
   ]
  },
  {
   "cell_type": "code",
   "execution_count": 114,
   "id": "5a893b53",
   "metadata": {},
   "outputs": [
    {
     "name": "stdout",
     "output_type": "stream",
     "text": [
      "Значения в узлах сетки\n",
      "0.0\n",
      "0.8929\n",
      "1.8042\n",
      "2.7276\n",
      "3.6567\n",
      "4.5848\n",
      "5.5052\n",
      "6.411\n",
      "7.2956\n",
      "8.1522\n",
      "8.9742\n",
      "9.7552\n",
      "10.4888\n",
      "11.1691\n",
      "11.7904\n",
      "12.3472\n",
      "12.8346\n",
      "13.248\n",
      "13.5833\n",
      "13.8367\n",
      "14.0053\n",
      "14.0864\n",
      "14.078\n",
      "13.9788\n",
      "13.7879\n",
      "13.5052\n",
      "13.1312\n",
      "12.6668\n",
      "12.1139\n",
      "11.4747\n",
      "10.7523\n",
      "9.9501\n",
      "9.0724\n",
      "8.1239\n",
      "7.1097\n",
      "6.0357\n",
      "4.9081\n",
      "3.7335\n",
      "2.5189\n",
      "1.2719\n",
      "-0.0\n"
     ]
    }
   ],
   "source": [
    "# Значения в узлах сетки\n",
    "y = []\n",
    "for i in A:\n",
    "    y.append(f(i))\n",
    "print(\"Значения в узлах сетки\")\n",
    "print_value(y)"
   ]
  },
  {
   "cell_type": "code",
   "execution_count": 117,
   "id": "f74509ff",
   "metadata": {},
   "outputs": [
    {
     "name": "stdout",
     "output_type": "stream",
     "text": [
      "g:\n",
      "\n",
      "35.715\n",
      "36.4526\n",
      "36.9379\n",
      "37.1634\n",
      "37.1235\n",
      "36.8144\n",
      "36.2344\n",
      "35.3836\n",
      "34.2643\n",
      "32.8804\n",
      "31.2381\n",
      "29.3454\n",
      "27.2123\n",
      "24.8504\n",
      "22.2732\n",
      "19.496\n",
      "16.5354\n",
      "13.4097\n",
      "10.1385\n",
      "6.7427\n",
      "3.2442\n",
      "-0.3342\n",
      "-3.9687\n",
      "-7.6349\n",
      "-11.3081\n",
      "-14.9631\n",
      "-18.5747\n",
      "-22.1176\n",
      "-25.5667\n",
      "-28.8974\n",
      "-32.0856\n",
      "-35.1079\n",
      "-37.9418\n",
      "-40.566\n",
      "-42.9601\n",
      "-45.1054\n",
      "-46.9844\n",
      "-48.5814\n",
      "-49.8824\n"
     ]
    }
   ],
   "source": [
    "a = y[:-1]\n",
    "g = []\n",
    "for i in range(len(a) - 1):\n",
    "    g.append((a[i + 1] - a[i])/h)\n",
    "print(\"g:\\n\")\n",
    "print_value(g)"
   ]
  },
  {
   "cell_type": "code",
   "execution_count": 141,
   "id": "33e024b2",
   "metadata": {},
   "outputs": [
    {
     "data": {
      "text/plain": [
       "array([[0.025, 0.15 , 0.   , ..., 0.   , 0.   , 0.   ],\n",
       "       [0.15 , 0.025, 0.15 , ..., 0.   , 0.   , 0.   ],\n",
       "       [0.   , 0.15 , 0.025, ..., 0.   , 0.   , 0.   ],\n",
       "       ...,\n",
       "       [0.   , 0.   , 0.   , ..., 0.025, 0.15 , 0.   ],\n",
       "       [0.   , 0.   , 0.   , ..., 0.15 , 0.025, 0.15 ],\n",
       "       [0.   , 0.   , 0.   , ..., 0.   , 0.15 , 0.025]])"
      ]
     },
     "execution_count": 141,
     "metadata": {},
     "output_type": "execute_result"
    }
   ],
   "source": [
    "s = h\n",
    "l = 3*(h + h)\n",
    "T = np.zeros((38, 38))\n",
    "for i in range(38):\n",
    "    if i == 0:\n",
    "        T[i, i] = s\n",
    "        T[i, i + 1] = l\n",
    "    elif i == 37:\n",
    "        T[i, i-1] = l\n",
    "        T[i, i] = s\n",
    "    else:\n",
    "        T[i, i] = s\n",
    "        T[i, i-1] = l\n",
    "        T[i, i+1] = l\n",
    "T"
   ]
  },
  {
   "cell_type": "code",
   "execution_count": 142,
   "id": "b7e2c21f",
   "metadata": {},
   "outputs": [
    {
     "name": "stdout",
     "output_type": "stream",
     "text": [
      "[[-0.19  6.7  -0.92 ...  6.5   1.11 -6.69]\n",
      " [ 6.7  -1.12  0.15 ... -1.08 -0.19  1.11]\n",
      " [-0.92  0.15  0.9  ... -6.32 -1.08  6.5 ]\n",
      " ...\n",
      " [ 6.5  -1.08 -6.32 ...  0.9   0.15 -0.92]\n",
      " [ 1.11 -0.19 -1.08 ...  0.15 -1.12  6.7 ]\n",
      " [-6.69  1.11  6.5  ... -0.92  6.7  -0.19]]\n"
     ]
    }
   ],
   "source": [
    "T_inv = np.linalg.inv(T)\n",
    "# for i in T_inv:\n",
    "#     for j in i:\n",
    "#         print(round(j, 4), end=\" \")\n",
    "#     print()\n",
    "print(np.around(T_inv, 2))"
   ]
  },
  {
   "cell_type": "code",
   "execution_count": 143,
   "id": "d68e5f4a",
   "metadata": {},
   "outputs": [
    {
     "data": {
      "text/plain": [
       "38"
      ]
     },
     "execution_count": 143,
     "metadata": {},
     "output_type": "execute_result"
    }
   ],
   "source": [
    "r = []\n",
    "for i in range(len(g) - 1):\n",
    "    r.append((g[i+1] - g[i])*3)\n",
    "r = np.array(r)\n",
    "len(r)"
   ]
  },
  {
   "cell_type": "code",
   "execution_count": 144,
   "id": "40763908",
   "metadata": {},
   "outputs": [
    {
     "name": "stdout",
     "output_type": "stream",
     "text": [
      "-------c:\n",
      "0.0\n",
      "15.8198\n",
      "12.1161\n",
      "-8.1331\n",
      "-6.2506\n",
      "8.3763\n",
      "-1.327\n",
      "-19.7555\n",
      "-12.396\n",
      "-0.5663\n",
      "-15.1871\n",
      "-29.748\n",
      "-17.7081\n",
      "-9.9636\n",
      "-27.8693\n",
      "-36.9348\n",
      "-21.52\n",
      "-18.6903\n",
      "-37.8786\n",
      "-40.4201\n",
      "-23.3012\n",
      "-25.6672\n",
      "-43.9881\n",
      "-39.6911\n",
      "-22.7219\n",
      "-29.9861\n",
      "-45.3809\n",
      "-34.6816\n",
      "-19.6959\n",
      "-31.0179\n",
      "-41.7486\n",
      "-25.788\n",
      "-14.3998\n",
      "-28.4911\n",
      "-33.3348\n",
      "-13.8359\n",
      "-7.2642\n",
      "-22.5333\n",
      "-20.9201\n",
      "0.0\n"
     ]
    }
   ],
   "source": [
    "c_i = np.dot(T_inv, r)\n",
    "c = np.zeros(k)\n",
    "c[0] = 0\n",
    "c[k-1] = 0\n",
    "for i in range(1, k-1):\n",
    "    c[i] = c_i[i-1]\n",
    "print(\"-------c:\")\n",
    "print_value(c)"
   ]
  },
  {
   "cell_type": "code",
   "execution_count": 145,
   "id": "515d3955",
   "metadata": {},
   "outputs": [
    {
     "name": "stdout",
     "output_type": "stream",
     "text": [
      "-------b:\n",
      "35.5832\n",
      "36.088\n",
      "36.8038\n",
      "37.3511\n",
      "37.1579\n",
      "36.6859\n",
      "36.4212\n",
      "35.8162\n",
      "34.4756\n",
      "33.0164\n",
      "31.7391\n",
      "29.9888\n",
      "27.5905\n",
      "25.2487\n",
      "23.0455\n",
      "20.2909\n",
      "17.0498\n",
      "14.0369\n",
      "11.1067\n",
      "7.6106\n",
      "3.8464\n",
      "0.4602\n",
      "-2.9048\n",
      "-6.784\n",
      "-10.6795\n",
      "-14.0852\n",
      "-17.5293\n",
      "-21.3754\n",
      "-24.9799\n",
      "-28.0325\n",
      "-31.1749\n",
      "-34.5581\n",
      "-37.4644\n",
      "-39.8134\n",
      "-42.2893\n",
      "-44.8143\n",
      "-46.6755\n",
      "-48.0315\n",
      "-49.5337\n",
      "-50.0567\n"
     ]
    }
   ],
   "source": [
    "b = np.zeros(k) \n",
    "for i in range(k-1):\n",
    "    b[i] = g[i] - h/3 * (2 * c[i] + c[i+1])\n",
    "b[k-1] = b[k-2] + h * (c[k-2] + c[k-1])\n",
    "print(\"-------b:\")\n",
    "print_value(b)"
   ]
  },
  {
   "cell_type": "code",
   "execution_count": 146,
   "id": "53d4e830",
   "metadata": {},
   "outputs": [
    {
     "name": "stdout",
     "output_type": "stream",
     "text": [
      "-------d:\n",
      "210.9306\n",
      "-49.3822\n",
      "-269.9892\n",
      "25.0996\n",
      "195.0257\n",
      "-129.3774\n",
      "-245.713\n",
      "98.1263\n",
      "157.729\n",
      "-194.944\n",
      "-194.1454\n",
      "160.5315\n",
      "103.2603\n",
      "-238.743\n",
      "-120.8731\n",
      "205.5313\n",
      "37.7296\n",
      "-255.8443\n",
      "-33.8865\n",
      "228.2513\n",
      "-31.5458\n",
      "-244.2788\n",
      "57.2933\n",
      "226.256\n",
      "-96.8568\n",
      "-205.264\n",
      "142.6575\n",
      "199.8099\n",
      "-150.9601\n",
      "-143.0759\n",
      "212.8071\n",
      "151.8427\n",
      "-187.8836\n",
      "-64.5831\n",
      "259.9861\n",
      "87.6218\n",
      "-203.5879\n",
      "21.5095\n",
      "278.935\n",
      "-1309.6543\n"
     ]
    }
   ],
   "source": [
    "d = np.zeros(k) \n",
    "for i in range(k - 1):\n",
    "    d[i] = (c[i + 1] - c[i]) / (3 * h)\n",
    "    \n",
    "d[k-1] = (y[k] - a[k-1] - b[k-1] * h - c[k-1] * h**2) / (h ** 3)\n",
    "print(\"-------d:\")\n",
    "print_value(d)"
   ]
  },
  {
   "cell_type": "code",
   "execution_count": 148,
   "id": "0ccaa9f3",
   "metadata": {},
   "outputs": [
    {
     "name": "stdout",
     "output_type": "stream",
     "text": [
      "Сплайны:\n",
      "0.0\n",
      "0.8929\n",
      "1.8042\n",
      "2.7276\n",
      "3.6567\n",
      "4.5848\n",
      "5.5052\n",
      "6.411\n",
      "7.2956\n",
      "8.1522\n",
      "8.9742\n",
      "9.7552\n",
      "10.4888\n",
      "11.1691\n",
      "11.7904\n",
      "12.3472\n",
      "12.8346\n",
      "13.248\n",
      "13.5833\n",
      "13.8367\n",
      "14.0053\n",
      "14.0864\n",
      "14.078\n",
      "13.9788\n",
      "13.7879\n",
      "13.5052\n",
      "13.1312\n",
      "12.6668\n",
      "12.1139\n",
      "11.4747\n",
      "10.7523\n",
      "9.9501\n",
      "9.0724\n",
      "8.1239\n",
      "7.1097\n",
      "6.0357\n",
      "4.9081\n",
      "3.7335\n",
      "2.5189\n",
      "1.2719\n",
      "0.0\n"
     ]
    }
   ],
   "source": [
    "# # сетка\n",
    "# print(\"Сетка:\")\n",
    "# print_value(A)\n",
    "# # Функция\n",
    "# print(\"Значения функции:\")\n",
    "# print_value(y)\n",
    "# сплайны\n",
    "print(\"Сплайны:\")\n",
    "spln = np.zeros(k+1)\n",
    "spln[0] = a[0]\n",
    "for i in range(0, k-1):\n",
    "    spln[i+1] = a[i] + b[i] * h + c[i] * (h**2) + d[i] * (h**3)\n",
    "print_value(spln)"
   ]
  },
  {
   "cell_type": "code",
   "execution_count": 149,
   "id": "58408b1e",
   "metadata": {},
   "outputs": [
    {
     "data": {
      "image/png": "[encoded data removed]",
      "text/plain": [
       "<Figure size 432x288 with 1 Axes>"
      ]
     },
     "metadata": {
      "needs_background": "light"
     },
     "output_type": "display_data"
    }
   ],
   "source": [
    "import matplotlib.pyplot as plt\n",
    "plt.plot(A, spln, color = 'r')\n",
    "plt.plot(A, y, color = 'g')\n",
    "plt.show()"
   ]
  },
  {
   "cell_type": "code",
   "execution_count": 154,
   "id": "d2e4084e",
   "metadata": {},
   "outputs": [
    {
     "data": {
      "text/latex": [
       "$\\displaystyle 3 \\sqrt{9 \\sqrt{3} t + 14} \\sin{\\left(3.14159265358979 t \\right)}$"
      ],
      "text/plain": [
       "3*sqrt(9*sqrt(3)*t + 14)*sin(3.14159265358979*t)"
      ]
     },
     "execution_count": 154,
     "metadata": {},
     "output_type": "execute_result"
    }
   ],
   "source": [
    "from sympy import *\n",
    "t = Symbol(\"t\")\n",
    "f = 3 * sin(np.pi * t) * sqrt(14 + 9 * t * sqrt(3))\n",
    "f"
   ]
  },
  {
   "cell_type": "code",
   "execution_count": 156,
   "id": "7f6b962b",
   "metadata": {},
   "outputs": [
    {
     "data": {
      "text/latex": [
       "$\\displaystyle 9.42477796076938 \\sqrt{9 \\sqrt{3} t + 14} \\cos{\\left(3.14159265358979 t \\right)} + \\frac{27 \\sqrt{3} \\sin{\\left(3.14159265358979 t \\right)}}{2 \\sqrt{9 \\sqrt{3} t + 14}}$"
      ],
      "text/plain": [
       "9.42477796076938*sqrt(9*sqrt(3)*t + 14)*cos(3.14159265358979*t) + 27*sqrt(3)*sin(3.14159265358979*t)/(2*sqrt(9*sqrt(3)*t + 14))"
      ]
     },
     "execution_count": 156,
     "metadata": {},
     "output_type": "execute_result"
    }
   ],
   "source": [
    "# Производная функции\n",
    "fp = diff(f, t)\n",
    "fp"
   ]
  },
  {
   "cell_type": "code",
   "execution_count": 158,
   "id": "a77f6c11",
   "metadata": {},
   "outputs": [
    {
     "name": "stdout",
     "output_type": "stream",
     "text": [
      "35.2643\n",
      "36.1252\n",
      "36.7380\n",
      "37.0945\n",
      "37.1881\n",
      "37.0140\n",
      "36.5696\n",
      "35.8540\n",
      "34.8684\n",
      "33.6160\n",
      "32.1017\n",
      "30.3327\n",
      "28.3180\n",
      "26.0684\n",
      "23.5965\n",
      "20.9166\n",
      "18.0448\n",
      "14.9985\n",
      "11.7967\n",
      "8.4596\n",
      "5.0087\n",
      "1.4663\n",
      "-2.1441\n",
      "-5.7985\n",
      "-9.4724\n",
      "-13.1408\n",
      "-16.7783\n",
      "-20.3597\n",
      "-23.8598\n",
      "-27.2538\n",
      "-30.5172\n",
      "-33.6263\n",
      "-36.5581\n",
      "-39.2906\n",
      "-41.8030\n",
      "-44.0758\n",
      "-46.0906\n",
      "-47.8311\n",
      "-49.2823\n",
      "-50.4311\n",
      "-51.2663\n"
     ]
    }
   ],
   "source": [
    "p1 = []\n",
    "for i in A:\n",
    "    p1.append(round(fp.subs(t, i), 4))\n",
    "print_value(p1)"
   ]
  },
  {
   "cell_type": "code",
   "execution_count": 159,
   "id": "63f9a244",
   "metadata": {},
   "outputs": [
    {
     "name": "stdout",
     "output_type": "stream",
     "text": [
      "35.5832\n",
      "35.9787\n",
      "36.7864\n",
      "36.9034\n",
      "36.9915\n",
      "37.211\n",
      "36.8621\n",
      "35.8941\n",
      "35.0124\n",
      "34.1515\n",
      "32.6225\n",
      "30.6158\n",
      "28.8024\n",
      "26.8987\n",
      "24.3029\n",
      "21.4254\n",
      "18.8295\n",
      "16.0445\n",
      "12.6226\n",
      "9.1492\n",
      "6.0175\n",
      "2.6222\n",
      "-1.2812\n",
      "-4.9967\n",
      "-8.3444\n",
      "-11.9972\n",
      "-15.9694\n",
      "-19.5309\n",
      "-22.7348\n",
      "-26.2478\n",
      "-29.8517\n",
      "-32.8633\n",
      "-35.5628\n",
      "-38.5367\n",
      "-41.359\n",
      "-43.4685\n",
      "-45.3418\n",
      "-47.4205\n",
      "-49.1178\n",
      "-50.0567\n",
      "-52.5123\n"
     ]
    }
   ],
   "source": [
    "# производная сплайна\n",
    "p2 = np.zeros(k + 1)\n",
    "p2[0] = b[0]\n",
    "for i in range(0, k):\n",
    "    p2[i+1] = b[i] + 2 * c[i] * h + 3 * d[i] * h*h\n",
    "print_value(p2)"
   ]
  },
  {
   "cell_type": "code",
   "execution_count": 160,
   "id": "6b6a47d1",
   "metadata": {},
   "outputs": [
    {
     "data": {
      "image/png": "[encoded data removed]",
      "text/plain": [
       "<Figure size 432x288 with 1 Axes>"
      ]
     },
     "metadata": {
      "needs_background": "light"
     },
     "output_type": "display_data"
    }
   ],
   "source": [
    "plt.plot(A, p1, color = 'r')\n",
    "plt.plot(A, p2, color = 'g')\n",
    "plt.show()"
   ]
  }
 ],
 "metadata": {
  "kernelspec": {
   "display_name": "Python 3",
   "language": "python",
   "name": "python3"
  },
  "language_info": {
   "codemirror_mode": {
    "name": "ipython",
    "version": 3
   },
   "file_extension": ".py",
   "mimetype": "text/x-python",
   "name": "python",
   "nbconvert_exporter": "python",
   "pygments_lexer": "ipython3",
   "version": "3.8.8"
  }
 },
 "nbformat": 4,
 "nbformat_minor": 5
}
